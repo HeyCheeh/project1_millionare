{
 "cells": [
  {
   "cell_type": "code",
   "execution_count": 1,
   "metadata": {
    "_cell_guid": "b1076dfc-b9ad-4769-8c92-a6c4dae69d19",
    "_uuid": "8f2839f25d086af736a60e9eeb907d3b93b6e0e5",
    "colab": {},
    "colab_type": "code",
    "id": "U2D2gTdJVp90"
   },
   "outputs": [],
   "source": [
    "import numpy as np\n",
    "import pandas as pd\n",
    "import seaborn as sns\n",
    "import matplotlib.pyplot as plt\n",
    "from collections import Counter\n",
    "from itertools import combinations"
   ]
  },
  {
   "cell_type": "code",
   "execution_count": 2,
   "metadata": {
    "_cell_guid": "79c7e3d0-c299-4dcb-8224-4455121ee9b0",
    "_uuid": "d629ff2d2480ee46fbb7e2d37f6b5fab8052498a",
    "colab": {},
    "colab_type": "code",
    "id": "oyGfxL3eVp9-"
   },
   "outputs": [
    {
     "data": {
      "text/html": [
       "<div>\n",
       "<style scoped>\n",
       "    .dataframe tbody tr th:only-of-type {\n",
       "        vertical-align: middle;\n",
       "    }\n",
       "\n",
       "    .dataframe tbody tr th {\n",
       "        vertical-align: top;\n",
       "    }\n",
       "\n",
       "    .dataframe thead th {\n",
       "        text-align: right;\n",
       "    }\n",
       "</style>\n",
       "<table border=\"1\" class=\"dataframe\">\n",
       "  <thead>\n",
       "    <tr style=\"text-align: right;\">\n",
       "      <th></th>\n",
       "      <th>imdb_id</th>\n",
       "      <th>budget</th>\n",
       "      <th>revenue</th>\n",
       "      <th>original_title</th>\n",
       "      <th>cast</th>\n",
       "      <th>director</th>\n",
       "      <th>tagline</th>\n",
       "      <th>overview</th>\n",
       "      <th>runtime</th>\n",
       "      <th>genres</th>\n",
       "      <th>production_companies</th>\n",
       "      <th>release_date</th>\n",
       "      <th>vote_average</th>\n",
       "      <th>release_year</th>\n",
       "    </tr>\n",
       "  </thead>\n",
       "  <tbody>\n",
       "    <tr>\n",
       "      <th>11</th>\n",
       "      <td>tt1617661</td>\n",
       "      <td>176000003</td>\n",
       "      <td>183987723</td>\n",
       "      <td>Jupiter Ascending</td>\n",
       "      <td>Mila Kunis|Channing Tatum|Sean Bean|Eddie Redm...</td>\n",
       "      <td>Lana Wachowski|Lilly Wachowski</td>\n",
       "      <td>Expand your universe.</td>\n",
       "      <td>In a universe where human genetic material is ...</td>\n",
       "      <td>124</td>\n",
       "      <td>Science Fiction|Fantasy|Action|Adventure</td>\n",
       "      <td>Village Roadshow Pictures|Dune Entertainment|A...</td>\n",
       "      <td>2/4/2015</td>\n",
       "      <td>5.2</td>\n",
       "      <td>2015</td>\n",
       "    </tr>\n",
       "    <tr>\n",
       "      <th>1461</th>\n",
       "      <td>tt0414993</td>\n",
       "      <td>35000000</td>\n",
       "      <td>15304890</td>\n",
       "      <td>The Fountain</td>\n",
       "      <td>Hugh Jackman|Rachel Weisz|Ellen Burstyn|Mark M...</td>\n",
       "      <td>Darren Aronofsky</td>\n",
       "      <td>Death is the road to awe</td>\n",
       "      <td>Spanning over one thousand years, and three pa...</td>\n",
       "      <td>96</td>\n",
       "      <td>Drama|Adventure|Science Fiction|Romance</td>\n",
       "      <td>Regency Enterprises|Warner Bros.|Muse Entertai...</td>\n",
       "      <td>9/6/2006</td>\n",
       "      <td>6.7</td>\n",
       "      <td>2006</td>\n",
       "    </tr>\n",
       "    <tr>\n",
       "      <th>1218</th>\n",
       "      <td>tt1288558</td>\n",
       "      <td>17000000</td>\n",
       "      <td>97542952</td>\n",
       "      <td>Evil Dead</td>\n",
       "      <td>Jane Levy|Jessica Lucas|Shiloh Fernandez|Lou T...</td>\n",
       "      <td>Fede Alvarez</td>\n",
       "      <td>The most terrifying film you will ever experie...</td>\n",
       "      <td>Evil Dead, the fourth installment of the Evil ...</td>\n",
       "      <td>91</td>\n",
       "      <td>Horror</td>\n",
       "      <td>TriStar Pictures|Ghost House Pictures|FilmDist...</td>\n",
       "      <td>4/5/2013</td>\n",
       "      <td>6.3</td>\n",
       "      <td>2013</td>\n",
       "    </tr>\n",
       "    <tr>\n",
       "      <th>1779</th>\n",
       "      <td>tt0446013</td>\n",
       "      <td>45000000</td>\n",
       "      <td>30822861</td>\n",
       "      <td>Pathfinder</td>\n",
       "      <td>Karl Urban|Moon Bloodgood|Russell Means|Clancy...</td>\n",
       "      <td>Marcus Nispel</td>\n",
       "      <td>Two Worlds, One War. The Ultimate Battle Begins.</td>\n",
       "      <td>A Viking boy is left behind after his clan bat...</td>\n",
       "      <td>99</td>\n",
       "      <td>Action</td>\n",
       "      <td>Twentieth Century Fox Film Corporation|Dune En...</td>\n",
       "      <td>1/11/2007</td>\n",
       "      <td>5.4</td>\n",
       "      <td>2007</td>\n",
       "    </tr>\n",
       "    <tr>\n",
       "      <th>1601</th>\n",
       "      <td>tt0346491</td>\n",
       "      <td>155000000</td>\n",
       "      <td>167298192</td>\n",
       "      <td>Alexander</td>\n",
       "      <td>Colin Farrell|Angelina Jolie|Val Kilmer|Jared ...</td>\n",
       "      <td>Oliver Stone</td>\n",
       "      <td>The greatest legend of all was real.</td>\n",
       "      <td>Alexander, the King of Macedonia, leads his le...</td>\n",
       "      <td>175</td>\n",
       "      <td>War|History|Action|Adventure|Drama</td>\n",
       "      <td>France 3 CinÃ©ma|Intermedia Films|PathÃ© Renn ...</td>\n",
       "      <td>11/21/2004</td>\n",
       "      <td>5.6</td>\n",
       "      <td>2004</td>\n",
       "    </tr>\n",
       "    <tr>\n",
       "      <th>...</th>\n",
       "      <td>...</td>\n",
       "      <td>...</td>\n",
       "      <td>...</td>\n",
       "      <td>...</td>\n",
       "      <td>...</td>\n",
       "      <td>...</td>\n",
       "      <td>...</td>\n",
       "      <td>...</td>\n",
       "      <td>...</td>\n",
       "      <td>...</td>\n",
       "      <td>...</td>\n",
       "      <td>...</td>\n",
       "      <td>...</td>\n",
       "      <td>...</td>\n",
       "    </tr>\n",
       "    <tr>\n",
       "      <th>504</th>\n",
       "      <td>tt0213149</td>\n",
       "      <td>140000000</td>\n",
       "      <td>449220945</td>\n",
       "      <td>Pearl Harbor</td>\n",
       "      <td>Ben Affleck|Josh Hartnett|Kate Beckinsale|Cuba...</td>\n",
       "      <td>Michael Bay</td>\n",
       "      <td>December 7, 1941 - A day that shall live in in...</td>\n",
       "      <td>The lifelong friendship between Rafe McCawley ...</td>\n",
       "      <td>183</td>\n",
       "      <td>History|Romance|War</td>\n",
       "      <td>Jerry Bruckheimer Films|Touchstone Pictures</td>\n",
       "      <td>5/21/2001</td>\n",
       "      <td>6.6</td>\n",
       "      <td>2001</td>\n",
       "    </tr>\n",
       "    <tr>\n",
       "      <th>1671</th>\n",
       "      <td>tt0382932</td>\n",
       "      <td>150000000</td>\n",
       "      <td>623722818</td>\n",
       "      <td>Ratatouille</td>\n",
       "      <td>Patton Oswalt|Ian Holm|Lou Romano|Brian Denneh...</td>\n",
       "      <td>Brad Bird|Jan Pinkava</td>\n",
       "      <td>He's dying to become a chef.</td>\n",
       "      <td>A rat named Remy dreams of becoming a great Fr...</td>\n",
       "      <td>111</td>\n",
       "      <td>Animation|Comedy|Family|Fantasy</td>\n",
       "      <td>Walt Disney Pictures|Pixar Animation Studios</td>\n",
       "      <td>6/22/2007</td>\n",
       "      <td>7.3</td>\n",
       "      <td>2007</td>\n",
       "    </tr>\n",
       "    <tr>\n",
       "      <th>1469</th>\n",
       "      <td>tt0362120</td>\n",
       "      <td>45000000</td>\n",
       "      <td>178262620</td>\n",
       "      <td>Scary Movie 4</td>\n",
       "      <td>Anna Faris|Regina Hall|Craig Bierko|Bill Pullm...</td>\n",
       "      <td>David Zucker</td>\n",
       "      <td>Bury the grudge. Burn the village.  See the saw.</td>\n",
       "      <td>Cindy finds out the house she lives in is haun...</td>\n",
       "      <td>83</td>\n",
       "      <td>Comedy</td>\n",
       "      <td>Dimension Films</td>\n",
       "      <td>4/13/2006</td>\n",
       "      <td>5.3</td>\n",
       "      <td>2006</td>\n",
       "    </tr>\n",
       "    <tr>\n",
       "      <th>438</th>\n",
       "      <td>tt1075747</td>\n",
       "      <td>47000000</td>\n",
       "      <td>10539000</td>\n",
       "      <td>Jonah Hex</td>\n",
       "      <td>Josh Brolin|John Malkovich|Megan Fox|Michael F...</td>\n",
       "      <td>Jimmy Hayward</td>\n",
       "      <td>Revenge gets ugly.</td>\n",
       "      <td>Gunsliger Jonah Hex (Josh Brolin) is appointed...</td>\n",
       "      <td>80</td>\n",
       "      <td>Action|Western|Drama|Fantasy|Thriller</td>\n",
       "      <td>Warner Bros.</td>\n",
       "      <td>6/18/2010</td>\n",
       "      <td>4.4</td>\n",
       "      <td>2010</td>\n",
       "    </tr>\n",
       "    <tr>\n",
       "      <th>1055</th>\n",
       "      <td>tt1764183</td>\n",
       "      <td>12000000</td>\n",
       "      <td>35485056</td>\n",
       "      <td>Arbitrage</td>\n",
       "      <td>Richard Gere|Susan Sarandon|Tim Roth|Brit Marl...</td>\n",
       "      <td>Nicholas Jarecki</td>\n",
       "      <td>Power is the best alibi.</td>\n",
       "      <td>A troubled hedge fund magnate, desperate to co...</td>\n",
       "      <td>100</td>\n",
       "      <td>Drama|Thriller</td>\n",
       "      <td>Lionsgate|Artina Films|Lucky Monkey Pictures|G...</td>\n",
       "      <td>9/14/2012</td>\n",
       "      <td>5.9</td>\n",
       "      <td>2012</td>\n",
       "    </tr>\n",
       "  </tbody>\n",
       "</table>\n",
       "<p>200 rows × 14 columns</p>\n",
       "</div>"
      ],
      "text/plain": [
       "        imdb_id     budget    revenue     original_title  \\\n",
       "11    tt1617661  176000003  183987723  Jupiter Ascending   \n",
       "1461  tt0414993   35000000   15304890       The Fountain   \n",
       "1218  tt1288558   17000000   97542952          Evil Dead   \n",
       "1779  tt0446013   45000000   30822861         Pathfinder   \n",
       "1601  tt0346491  155000000  167298192          Alexander   \n",
       "...         ...        ...        ...                ...   \n",
       "504   tt0213149  140000000  449220945       Pearl Harbor   \n",
       "1671  tt0382932  150000000  623722818        Ratatouille   \n",
       "1469  tt0362120   45000000  178262620      Scary Movie 4   \n",
       "438   tt1075747   47000000   10539000          Jonah Hex   \n",
       "1055  tt1764183   12000000   35485056          Arbitrage   \n",
       "\n",
       "                                                   cast  \\\n",
       "11    Mila Kunis|Channing Tatum|Sean Bean|Eddie Redm...   \n",
       "1461  Hugh Jackman|Rachel Weisz|Ellen Burstyn|Mark M...   \n",
       "1218  Jane Levy|Jessica Lucas|Shiloh Fernandez|Lou T...   \n",
       "1779  Karl Urban|Moon Bloodgood|Russell Means|Clancy...   \n",
       "1601  Colin Farrell|Angelina Jolie|Val Kilmer|Jared ...   \n",
       "...                                                 ...   \n",
       "504   Ben Affleck|Josh Hartnett|Kate Beckinsale|Cuba...   \n",
       "1671  Patton Oswalt|Ian Holm|Lou Romano|Brian Denneh...   \n",
       "1469  Anna Faris|Regina Hall|Craig Bierko|Bill Pullm...   \n",
       "438   Josh Brolin|John Malkovich|Megan Fox|Michael F...   \n",
       "1055  Richard Gere|Susan Sarandon|Tim Roth|Brit Marl...   \n",
       "\n",
       "                            director  \\\n",
       "11    Lana Wachowski|Lilly Wachowski   \n",
       "1461                Darren Aronofsky   \n",
       "1218                    Fede Alvarez   \n",
       "1779                   Marcus Nispel   \n",
       "1601                    Oliver Stone   \n",
       "...                              ...   \n",
       "504                      Michael Bay   \n",
       "1671           Brad Bird|Jan Pinkava   \n",
       "1469                    David Zucker   \n",
       "438                    Jimmy Hayward   \n",
       "1055                Nicholas Jarecki   \n",
       "\n",
       "                                                tagline  \\\n",
       "11                                Expand your universe.   \n",
       "1461                           Death is the road to awe   \n",
       "1218  The most terrifying film you will ever experie...   \n",
       "1779   Two Worlds, One War. The Ultimate Battle Begins.   \n",
       "1601               The greatest legend of all was real.   \n",
       "...                                                 ...   \n",
       "504   December 7, 1941 - A day that shall live in in...   \n",
       "1671                       He's dying to become a chef.   \n",
       "1469   Bury the grudge. Burn the village.  See the saw.   \n",
       "438                                  Revenge gets ugly.   \n",
       "1055                           Power is the best alibi.   \n",
       "\n",
       "                                               overview  runtime  \\\n",
       "11    In a universe where human genetic material is ...      124   \n",
       "1461  Spanning over one thousand years, and three pa...       96   \n",
       "1218  Evil Dead, the fourth installment of the Evil ...       91   \n",
       "1779  A Viking boy is left behind after his clan bat...       99   \n",
       "1601  Alexander, the King of Macedonia, leads his le...      175   \n",
       "...                                                 ...      ...   \n",
       "504   The lifelong friendship between Rafe McCawley ...      183   \n",
       "1671  A rat named Remy dreams of becoming a great Fr...      111   \n",
       "1469  Cindy finds out the house she lives in is haun...       83   \n",
       "438   Gunsliger Jonah Hex (Josh Brolin) is appointed...       80   \n",
       "1055  A troubled hedge fund magnate, desperate to co...      100   \n",
       "\n",
       "                                        genres  \\\n",
       "11    Science Fiction|Fantasy|Action|Adventure   \n",
       "1461   Drama|Adventure|Science Fiction|Romance   \n",
       "1218                                    Horror   \n",
       "1779                                    Action   \n",
       "1601        War|History|Action|Adventure|Drama   \n",
       "...                                        ...   \n",
       "504                        History|Romance|War   \n",
       "1671           Animation|Comedy|Family|Fantasy   \n",
       "1469                                    Comedy   \n",
       "438      Action|Western|Drama|Fantasy|Thriller   \n",
       "1055                            Drama|Thriller   \n",
       "\n",
       "                                   production_companies release_date  \\\n",
       "11    Village Roadshow Pictures|Dune Entertainment|A...     2/4/2015   \n",
       "1461  Regency Enterprises|Warner Bros.|Muse Entertai...     9/6/2006   \n",
       "1218  TriStar Pictures|Ghost House Pictures|FilmDist...     4/5/2013   \n",
       "1779  Twentieth Century Fox Film Corporation|Dune En...    1/11/2007   \n",
       "1601  France 3 CinÃ©ma|Intermedia Films|PathÃ© Renn ...   11/21/2004   \n",
       "...                                                 ...          ...   \n",
       "504         Jerry Bruckheimer Films|Touchstone Pictures    5/21/2001   \n",
       "1671       Walt Disney Pictures|Pixar Animation Studios    6/22/2007   \n",
       "1469                                    Dimension Films    4/13/2006   \n",
       "438                                        Warner Bros.    6/18/2010   \n",
       "1055  Lionsgate|Artina Films|Lucky Monkey Pictures|G...    9/14/2012   \n",
       "\n",
       "      vote_average  release_year  \n",
       "11             5.2          2015  \n",
       "1461           6.7          2006  \n",
       "1218           6.3          2013  \n",
       "1779           5.4          2007  \n",
       "1601           5.6          2004  \n",
       "...            ...           ...  \n",
       "504            6.6          2001  \n",
       "1671           7.3          2007  \n",
       "1469           5.3          2006  \n",
       "438            4.4          2010  \n",
       "1055           5.9          2012  \n",
       "\n",
       "[200 rows x 14 columns]"
      ]
     },
     "execution_count": 2,
     "metadata": {},
     "output_type": "execute_result"
    }
   ],
   "source": [
    "data = pd.read_csv('movie_bd_v5.csv')\n",
    "data.sample(200)"
   ]
  },
  {
   "cell_type": "code",
   "execution_count": 3,
   "metadata": {
    "colab": {},
    "colab_type": "code",
    "id": "CoYUnagMVp-C"
   },
   "outputs": [
    {
     "data": {
      "text/html": [
       "<div>\n",
       "<style scoped>\n",
       "    .dataframe tbody tr th:only-of-type {\n",
       "        vertical-align: middle;\n",
       "    }\n",
       "\n",
       "    .dataframe tbody tr th {\n",
       "        vertical-align: top;\n",
       "    }\n",
       "\n",
       "    .dataframe thead th {\n",
       "        text-align: right;\n",
       "    }\n",
       "</style>\n",
       "<table border=\"1\" class=\"dataframe\">\n",
       "  <thead>\n",
       "    <tr style=\"text-align: right;\">\n",
       "      <th></th>\n",
       "      <th>budget</th>\n",
       "      <th>revenue</th>\n",
       "      <th>runtime</th>\n",
       "      <th>vote_average</th>\n",
       "      <th>release_year</th>\n",
       "    </tr>\n",
       "  </thead>\n",
       "  <tbody>\n",
       "    <tr>\n",
       "      <th>count</th>\n",
       "      <td>1.889000e+03</td>\n",
       "      <td>1.889000e+03</td>\n",
       "      <td>1889.000000</td>\n",
       "      <td>1889.000000</td>\n",
       "      <td>1889.000000</td>\n",
       "    </tr>\n",
       "    <tr>\n",
       "      <th>mean</th>\n",
       "      <td>5.431083e+07</td>\n",
       "      <td>1.553653e+08</td>\n",
       "      <td>109.658549</td>\n",
       "      <td>6.140762</td>\n",
       "      <td>2007.860773</td>\n",
       "    </tr>\n",
       "    <tr>\n",
       "      <th>std</th>\n",
       "      <td>4.858721e+07</td>\n",
       "      <td>2.146698e+08</td>\n",
       "      <td>18.017041</td>\n",
       "      <td>0.764763</td>\n",
       "      <td>4.468841</td>\n",
       "    </tr>\n",
       "    <tr>\n",
       "      <th>min</th>\n",
       "      <td>5.000000e+06</td>\n",
       "      <td>2.033165e+06</td>\n",
       "      <td>63.000000</td>\n",
       "      <td>3.300000</td>\n",
       "      <td>2000.000000</td>\n",
       "    </tr>\n",
       "    <tr>\n",
       "      <th>25%</th>\n",
       "      <td>2.000000e+07</td>\n",
       "      <td>3.456058e+07</td>\n",
       "      <td>97.000000</td>\n",
       "      <td>5.600000</td>\n",
       "      <td>2004.000000</td>\n",
       "    </tr>\n",
       "    <tr>\n",
       "      <th>50%</th>\n",
       "      <td>3.800000e+07</td>\n",
       "      <td>8.361541e+07</td>\n",
       "      <td>107.000000</td>\n",
       "      <td>6.100000</td>\n",
       "      <td>2008.000000</td>\n",
       "    </tr>\n",
       "    <tr>\n",
       "      <th>75%</th>\n",
       "      <td>7.200000e+07</td>\n",
       "      <td>1.782626e+08</td>\n",
       "      <td>120.000000</td>\n",
       "      <td>6.600000</td>\n",
       "      <td>2012.000000</td>\n",
       "    </tr>\n",
       "    <tr>\n",
       "      <th>max</th>\n",
       "      <td>3.800000e+08</td>\n",
       "      <td>2.781506e+09</td>\n",
       "      <td>214.000000</td>\n",
       "      <td>8.100000</td>\n",
       "      <td>2015.000000</td>\n",
       "    </tr>\n",
       "  </tbody>\n",
       "</table>\n",
       "</div>"
      ],
      "text/plain": [
       "             budget       revenue      runtime  vote_average  release_year\n",
       "count  1.889000e+03  1.889000e+03  1889.000000   1889.000000   1889.000000\n",
       "mean   5.431083e+07  1.553653e+08   109.658549      6.140762   2007.860773\n",
       "std    4.858721e+07  2.146698e+08    18.017041      0.764763      4.468841\n",
       "min    5.000000e+06  2.033165e+06    63.000000      3.300000   2000.000000\n",
       "25%    2.000000e+07  3.456058e+07    97.000000      5.600000   2004.000000\n",
       "50%    3.800000e+07  8.361541e+07   107.000000      6.100000   2008.000000\n",
       "75%    7.200000e+07  1.782626e+08   120.000000      6.600000   2012.000000\n",
       "max    3.800000e+08  2.781506e+09   214.000000      8.100000   2015.000000"
      ]
     },
     "execution_count": 3,
     "metadata": {},
     "output_type": "execute_result"
    }
   ],
   "source": [
    "data.describe()"
   ]
  },
  {
   "cell_type": "markdown",
   "metadata": {
    "colab_type": "text",
    "id": "DTIt7ezGVp-G"
   },
   "source": [
    "# Предобработка"
   ]
  },
  {
   "cell_type": "code",
   "execution_count": 4,
   "metadata": {
    "colab": {},
    "colab_type": "code",
    "id": "jNb40DwKVp-H"
   },
   "outputs": [],
   "source": [
    "answers = {} # создадим словарь для ответов\n",
    "data['profit'] = data['revenue'] - data['budget'] # создаем колонку с профитом\n",
    "# функция считает длинну string из датафрэйма\n",
    "def words_num (x): \n",
    "    return len(x)\n",
    "\n",
    "# тут другие ваши предобработки колонок например:\n",
    "\n",
    "#the time given in the dataset is in string format.\n",
    "#So we need to change this in datetime format\n",
    "# ..."
   ]
  },
  {
   "cell_type": "markdown",
   "metadata": {
    "colab_type": "text",
    "id": "YxZaH-nPVp-L"
   },
   "source": [
    "# 1. У какого фильма из списка самый большой бюджет?"
   ]
  },
  {
   "cell_type": "markdown",
   "metadata": {
    "colab_type": "text",
    "id": "Nd-G5gX6Vp-M"
   },
   "source": [
    "Использовать варианты ответов в коде решения запрещено.    \n",
    "Вы думаете и в жизни у вас будут варианты ответов?)"
   ]
  },
  {
   "cell_type": "code",
   "execution_count": 5,
   "metadata": {
    "colab": {},
    "colab_type": "code",
    "id": "uVnXAY5RVp-O"
   },
   "outputs": [],
   "source": [
    "# в словарь вставляем номер вопроса и ваш ответ на него\n",
    "# Пример: \n",
    "answers['1'] = '2. Spider-Man 3 (tt0413300)'\n",
    "# запишите свой вариант ответа\n",
    "answers['1'] = '...'\n",
    "# если ответили верно, можете добавить комментарий со значком \"+\"\n"
   ]
  },
  {
   "cell_type": "code",
   "execution_count": 6,
   "metadata": {
    "scrolled": true
   },
   "outputs": [
    {
     "data": {
      "text/plain": [
       "{'1': ' Pirates of the Caribbean: On Stranger Tides'}"
      ]
     },
     "execution_count": 6,
     "metadata": {},
     "output_type": "execute_result"
    }
   ],
   "source": [
    "x = data[(data.budget == data.budget.max())].original_title\n",
    "x = x.to_string(index=False)\n",
    "answers['1'] = x\n",
    "answers"
   ]
  },
  {
   "cell_type": "markdown",
   "metadata": {
    "colab_type": "text",
    "id": "K7L3nbRXVp-X"
   },
   "source": [
    "ВАРИАНТ 2"
   ]
  },
  {
   "cell_type": "code",
   "execution_count": 7,
   "metadata": {
    "colab": {},
    "colab_type": "code",
    "id": "OGaoQI7rVp-X"
   },
   "outputs": [
    {
     "data": {
      "text/plain": [
       "{'1': '1. Pirates of the Caribbean: On Stranger Tides ( tt1298650)'}"
      ]
     },
     "execution_count": 7,
     "metadata": {},
     "output_type": "execute_result"
    }
   ],
   "source": [
    "\n",
    "\n",
    "# можно добавлять разные варианты решения\n",
    "task = '1.'\n",
    "x = data[(data.budget == data.budget.max())]\n",
    "x1 = x.original_title.to_string(index=False)\n",
    "y = x.imdb_id.to_string(index=False)\n",
    "answers['1'] = '{0}{1} ({2})'.format(task, x1,y)\n",
    "answers"
   ]
  },
  {
   "cell_type": "markdown",
   "metadata": {
    "colab_type": "text",
    "id": "FNRbbI3vVp-c"
   },
   "source": [
    "# 2. Какой из фильмов самый длительный (в минутах)?"
   ]
  },
  {
   "cell_type": "code",
   "execution_count": 8,
   "metadata": {
    "colab": {},
    "colab_type": "code",
    "id": "vHAoEXNTVp-d"
   },
   "outputs": [],
   "source": [
    "# думаю логику работы с этим словарем вы уже поняли, \n",
    "# по этому не буду больше его дублировать\n",
    "answers['2'] = '...'"
   ]
  },
  {
   "cell_type": "code",
   "execution_count": 9,
   "metadata": {
    "colab": {},
    "colab_type": "code",
    "id": "ot-VX2XrVp-g"
   },
   "outputs": [
    {
     "data": {
      "text/plain": [
       "{'1': '1. Pirates of the Caribbean: On Stranger Tides ( tt1298650)',\n",
       " '2': '2. Gods and Generals( tt0279111)'}"
      ]
     },
     "execution_count": 9,
     "metadata": {},
     "output_type": "execute_result"
    }
   ],
   "source": [
    "task = '2.'\n",
    "x = data[(data.runtime == data.runtime.max())]\n",
    "x2 = x.original_title.to_string(index=False)\n",
    "y = x.imdb_id.to_string(index=False)\n",
    "answers['2'] = '{0}{1}({2})'.format(task, x2, y)\n",
    "answers"
   ]
  },
  {
   "cell_type": "markdown",
   "metadata": {
    "colab_type": "text",
    "id": "bapLlpW8Vp-k"
   },
   "source": [
    "# 3. Какой из фильмов самый короткий (в минутах)?\n",
    "\n",
    "\n",
    "\n"
   ]
  },
  {
   "cell_type": "code",
   "execution_count": 10,
   "metadata": {
    "colab": {},
    "colab_type": "code",
    "id": "YBxaSHuAVp-l"
   },
   "outputs": [
    {
     "data": {
      "text/plain": [
       "{'1': '1. Pirates of the Caribbean: On Stranger Tides ( tt1298650)',\n",
       " '2': '2. Gods and Generals( tt0279111)',\n",
       " '3': '3. Winnie the Pooh( tt1449283)'}"
      ]
     },
     "execution_count": 10,
     "metadata": {},
     "output_type": "execute_result"
    }
   ],
   "source": [
    "task = '3.'\n",
    "x = data[(data.runtime == data.runtime.min())]\n",
    "x3 = x.original_title.to_string(index=False)\n",
    "y = x.imdb_id.to_string(index=False)\n",
    "answers['3'] = '{0}{1}({2})'.format(task, x3, y)\n",
    "answers\n"
   ]
  },
  {
   "cell_type": "markdown",
   "metadata": {
    "colab_type": "text",
    "id": "TfQbxbfNVp-p"
   },
   "source": [
    "# 4. Какова средняя длительность фильмов?\n"
   ]
  },
  {
   "cell_type": "code",
   "execution_count": 11,
   "metadata": {
    "colab": {},
    "colab_type": "code",
    "id": "5K6dKZYVVp-q"
   },
   "outputs": [
    {
     "data": {
      "text/plain": [
       "{'1': '1. Pirates of the Caribbean: On Stranger Tides ( tt1298650)',\n",
       " '2': '2. Gods and Generals( tt0279111)',\n",
       " '3': '3. Winnie the Pooh( tt1449283)',\n",
       " '4': '4. Средняя продолжительность фильмов: 109.6585494970884 минут'}"
      ]
     },
     "execution_count": 11,
     "metadata": {},
     "output_type": "execute_result"
    }
   ],
   "source": [
    "task = '4.'\n",
    "x = data['runtime'].mean()\n",
    "answers['4'] = '{0} Средняя продолжительность фильмов: {1} минут'.format(task, x)\n",
    "answers\n"
   ]
  },
  {
   "cell_type": "markdown",
   "metadata": {
    "colab_type": "text",
    "id": "r5TvbnT_Vp-u"
   },
   "source": [
    "# 5. Каково медианное значение длительности фильмов? "
   ]
  },
  {
   "cell_type": "code",
   "execution_count": 12,
   "metadata": {
    "colab": {},
    "colab_type": "code",
    "id": "iBROplKnVp-v"
   },
   "outputs": [
    {
     "data": {
      "text/plain": [
       "{'1': '1. Pirates of the Caribbean: On Stranger Tides ( tt1298650)',\n",
       " '2': '2. Gods and Generals( tt0279111)',\n",
       " '3': '3. Winnie the Pooh( tt1449283)',\n",
       " '4': '4. Средняя продолжительность фильмов: 109.6585494970884 минут',\n",
       " '5': '5. Медианное значение длительности фильмов: 107.0 минут'}"
      ]
     },
     "execution_count": 12,
     "metadata": {},
     "output_type": "execute_result"
    }
   ],
   "source": [
    "task = '5.'\n",
    "x = data['runtime'].median()\n",
    "answers['5'] = '{0} Медианное значение длительности фильмов: {1} минут'.format(task, x)\n",
    "answers\n"
   ]
  },
  {
   "cell_type": "markdown",
   "metadata": {
    "colab_type": "text",
    "id": "39P-deDSVp-y"
   },
   "source": [
    "# 6. Какой самый прибыльный фильм?\n",
    "#### Внимание! Здесь и далее под «прибылью» или «убытками» понимается разность между сборами и бюджетом фильма. (прибыль = сборы - бюджет) в нашем датасете это будет (profit = revenue - budget) "
   ]
  },
  {
   "cell_type": "code",
   "execution_count": 13,
   "metadata": {
    "colab": {},
    "colab_type": "code",
    "id": "UYZh4T9WVp-y"
   },
   "outputs": [
    {
     "data": {
      "text/plain": [
       "{'1': '1. Pirates of the Caribbean: On Stranger Tides ( tt1298650)',\n",
       " '2': '2. Gods and Generals( tt0279111)',\n",
       " '3': '3. Winnie the Pooh( tt1449283)',\n",
       " '4': '4. Средняя продолжительность фильмов: 109.6585494970884 минут',\n",
       " '5': '5. Медианное значение длительности фильмов: 107.0 минут',\n",
       " '6': '6. Avatar( tt0499549)'}"
      ]
     },
     "execution_count": 13,
     "metadata": {},
     "output_type": "execute_result"
    }
   ],
   "source": [
    "# лучше код получения столбца profit вынести в Предобработку что в начале\n",
    "task = '6.'\n",
    "x = data[(data.profit == data.profit.max())]\n",
    "x6 = x.original_title.to_string(index=False)\n",
    "y = x.imdb_id.to_string(index=False)\n",
    "answers['6'] = '{0}{1}({2})'.format(task, x6, y)\n",
    "answers"
   ]
  },
  {
   "cell_type": "markdown",
   "metadata": {
    "colab_type": "text",
    "id": "M99JmIX4Vp-2"
   },
   "source": [
    "# 7. Какой фильм самый убыточный? "
   ]
  },
  {
   "cell_type": "code",
   "execution_count": 14,
   "metadata": {
    "colab": {},
    "colab_type": "code",
    "id": "w-D2m4XPVp-3"
   },
   "outputs": [
    {
     "data": {
      "text/plain": [
       "{'1': '1. Pirates of the Caribbean: On Stranger Tides ( tt1298650)',\n",
       " '2': '2. Gods and Generals( tt0279111)',\n",
       " '3': '3. Winnie the Pooh( tt1449283)',\n",
       " '4': '4. Средняя продолжительность фильмов: 109.6585494970884 минут',\n",
       " '5': '5. Медианное значение длительности фильмов: 107.0 минут',\n",
       " '6': '6. Avatar( tt0499549)',\n",
       " '7': '7. The Lone Ranger( tt1210819)'}"
      ]
     },
     "execution_count": 14,
     "metadata": {},
     "output_type": "execute_result"
    }
   ],
   "source": [
    "task = '7.'\n",
    "x = data[(data.profit == data.profit.min())]\n",
    "x7 = x.original_title.to_string(index=False)\n",
    "y = x.imdb_id.to_string(index=False)\n",
    "answers['7'] = '{0}{1}({2})'.format(task, x7, y)\n",
    "answers"
   ]
  },
  {
   "cell_type": "markdown",
   "metadata": {
    "colab_type": "text",
    "id": "wEOM5ERVVp-6"
   },
   "source": [
    "# 8. У скольких фильмов из датасета объем сборов оказался выше бюджета?"
   ]
  },
  {
   "cell_type": "code",
   "execution_count": 15,
   "metadata": {
    "colab": {},
    "colab_type": "code",
    "id": "y00_7HD6Vp-7"
   },
   "outputs": [
    {
     "data": {
      "text/plain": [
       "{'1': '1. Pirates of the Caribbean: On Stranger Tides ( tt1298650)',\n",
       " '2': '2. Gods and Generals( tt0279111)',\n",
       " '3': '3. Winnie the Pooh( tt1449283)',\n",
       " '4': '4. Средняя продолжительность фильмов: 109.6585494970884 минут',\n",
       " '5': '5. Медианное значение длительности фильмов: 107.0 минут',\n",
       " '6': '6. Avatar( tt0499549)',\n",
       " '7': '7. The Lone Ranger( tt1210819)',\n",
       " '8': '8. У 1478 фильмов из датасета объем сборов оказался выше бюджета'}"
      ]
     },
     "execution_count": 15,
     "metadata": {},
     "output_type": "execute_result"
    }
   ],
   "source": [
    "task = '8.'\n",
    "x = len(data[(data.profit > 0)])\n",
    "answers['8'] = '{0} У {1} фильмов из датасета объем сборов оказался выше бюджета'.format(task, x)\n",
    "answers"
   ]
  },
  {
   "cell_type": "markdown",
   "metadata": {
    "colab_type": "text",
    "id": "xhpspA9KVp_A"
   },
   "source": [
    "# 9. Какой фильм оказался самым кассовым в 2008 году?"
   ]
  },
  {
   "cell_type": "code",
   "execution_count": 16,
   "metadata": {
    "colab": {},
    "colab_type": "code",
    "id": "MoUyQr9RVp_B"
   },
   "outputs": [
    {
     "data": {
      "text/plain": [
       "{'1': '1. Pirates of the Caribbean: On Stranger Tides ( tt1298650)',\n",
       " '2': '2. Gods and Generals( tt0279111)',\n",
       " '3': '3. Winnie the Pooh( tt1449283)',\n",
       " '4': '4. Средняя продолжительность фильмов: 109.6585494970884 минут',\n",
       " '5': '5. Медианное значение длительности фильмов: 107.0 минут',\n",
       " '6': '6. Avatar( tt0499549)',\n",
       " '7': '7. The Lone Ranger( tt1210819)',\n",
       " '8': '8. У 1478 фильмов из датасета объем сборов оказался выше бюджета',\n",
       " '9': '9. The Dark Knight( tt0468569)'}"
      ]
     },
     "execution_count": 16,
     "metadata": {},
     "output_type": "execute_result"
    }
   ],
   "source": [
    "task = '9.'\n",
    "x = data[(data.release_year == 2008)]\n",
    "x = x[(x.profit == x.profit.max())]\n",
    "x9 = x.original_title.to_string(index=False)\n",
    "y = x.imdb_id.to_string(index=False)\n",
    "answers['9'] = '{0}{1}({2})'.format(task, x9, y)\n",
    "answers"
   ]
  },
  {
   "cell_type": "markdown",
   "metadata": {
    "colab_type": "text",
    "id": "Zi4hDKidVp_F"
   },
   "source": [
    "# 10. Самый убыточный фильм за период с 2012 по 2014 г. (включительно)?\n"
   ]
  },
  {
   "cell_type": "code",
   "execution_count": 17,
   "metadata": {
    "colab": {},
    "colab_type": "code",
    "id": "XqyRmufJVp_F"
   },
   "outputs": [
    {
     "data": {
      "text/plain": [
       "{'1': '1. Pirates of the Caribbean: On Stranger Tides ( tt1298650)',\n",
       " '2': '2. Gods and Generals( tt0279111)',\n",
       " '3': '3. Winnie the Pooh( tt1449283)',\n",
       " '4': '4. Средняя продолжительность фильмов: 109.6585494970884 минут',\n",
       " '5': '5. Медианное значение длительности фильмов: 107.0 минут',\n",
       " '6': '6. Avatar( tt0499549)',\n",
       " '7': '7. The Lone Ranger( tt1210819)',\n",
       " '8': '8. У 1478 фильмов из датасета объем сборов оказался выше бюджета',\n",
       " '9': '9. The Dark Knight( tt0468569)',\n",
       " '10': '10. The Lone Ranger( tt1210819)'}"
      ]
     },
     "execution_count": 17,
     "metadata": {},
     "output_type": "execute_result"
    }
   ],
   "source": [
    "task = '10.'\n",
    "x = data.query('2012 <= release_year <= 2014 ')\n",
    "x = x[(x.profit == x.profit.min())]\n",
    "x10 = x.original_title.to_string(index=False)\n",
    "y = x.imdb_id.to_string(index=False)\n",
    "answers['10'] = '{0}{1}({2})'.format(task, x10, y)\n",
    "answers"
   ]
  },
  {
   "cell_type": "markdown",
   "metadata": {
    "colab_type": "text",
    "id": "EA7Sa9dkVp_I"
   },
   "source": [
    "# 11. Какого жанра фильмов больше всего?"
   ]
  },
  {
   "cell_type": "code",
   "execution_count": 18,
   "metadata": {
    "colab": {},
    "colab_type": "code",
    "id": "zsJAwJ8QVp_J"
   },
   "outputs": [],
   "source": [
    "# эту задачу тоже можно решать разными подходами, попробуй реализовать разные варианты\n",
    "# если будешь добавлять функцию - выноси ее в предобработку что в начале\n",
    "\n"
   ]
  },
  {
   "cell_type": "markdown",
   "metadata": {
    "colab_type": "text",
    "id": "Ax6g2C8SVp_M"
   },
   "source": [
    "ВАРИАНТ 2"
   ]
  },
  {
   "cell_type": "code",
   "execution_count": 19,
   "metadata": {
    "colab": {},
    "colab_type": "code",
    "id": "otO3SbrSVp_N"
   },
   "outputs": [
    {
     "data": {
      "text/plain": [
       "{'1': '1. Pirates of the Caribbean: On Stranger Tides ( tt1298650)',\n",
       " '2': '2. Gods and Generals( tt0279111)',\n",
       " '3': '3. Winnie the Pooh( tt1449283)',\n",
       " '4': '4. Средняя продолжительность фильмов: 109.6585494970884 минут',\n",
       " '5': '5. Медианное значение длительности фильмов: 107.0 минут',\n",
       " '6': '6. Avatar( tt0499549)',\n",
       " '7': '7. The Lone Ranger( tt1210819)',\n",
       " '8': '8. У 1478 фильмов из датасета объем сборов оказался выше бюджета',\n",
       " '9': '9. The Dark Knight( tt0468569)',\n",
       " '10': '10. The Lone Ranger( tt1210819)',\n",
       " '11': '11. Жанр Drama    782'}"
      ]
     },
     "execution_count": 19,
     "metadata": {},
     "output_type": "execute_result"
    }
   ],
   "source": [
    "task = '11.'\n",
    "x11 = data.genres.str.split('|').explode().value_counts().head(1)\n",
    "x11 = x11.to_string()\n",
    "answers['11'] = '{0} Жанр {1}'.format(task, x11)\n",
    "answers"
   ]
  },
  {
   "cell_type": "markdown",
   "metadata": {
    "colab_type": "text",
    "id": "T9_bPWpkVp_Q"
   },
   "source": [
    "# 12. Фильмы какого жанра чаще всего становятся прибыльными? "
   ]
  },
  {
   "cell_type": "code",
   "execution_count": 20,
   "metadata": {
    "colab": {},
    "colab_type": "code",
    "id": "Tmt8MaK1Vp_R"
   },
   "outputs": [
    {
     "data": {
      "text/plain": [
       "{'1': '1. Pirates of the Caribbean: On Stranger Tides ( tt1298650)',\n",
       " '2': '2. Gods and Generals( tt0279111)',\n",
       " '3': '3. Winnie the Pooh( tt1449283)',\n",
       " '4': '4. Средняя продолжительность фильмов: 109.6585494970884 минут',\n",
       " '5': '5. Медианное значение длительности фильмов: 107.0 минут',\n",
       " '6': '6. Avatar( tt0499549)',\n",
       " '7': '7. The Lone Ranger( tt1210819)',\n",
       " '8': '8. У 1478 фильмов из датасета объем сборов оказался выше бюджета',\n",
       " '9': '9. The Dark Knight( tt0468569)',\n",
       " '10': '10. The Lone Ranger( tt1210819)',\n",
       " '11': '11. Жанр Drama    782',\n",
       " '12': '12. Жанр Drama    560'}"
      ]
     },
     "execution_count": 20,
     "metadata": {},
     "output_type": "execute_result"
    }
   ],
   "source": [
    "task = '12.'\n",
    "df = data[data.profit > 0][['genres']]\n",
    "df.genres = df.genres.str.split('|')\n",
    "df = df.explode('genres')\n",
    "df = df.genres.value_counts().head(1)\n",
    "answers['12'] = '{0} Жанр {1}'.format(task, df.to_string())\n",
    "answers"
   ]
  },
  {
   "cell_type": "markdown",
   "metadata": {
    "colab_type": "text",
    "id": "0F23bgsDVp_U"
   },
   "source": [
    "# 13. У какого режиссера самые большие суммарные кассовые сборы?"
   ]
  },
  {
   "cell_type": "code",
   "execution_count": 21,
   "metadata": {
    "colab": {},
    "colab_type": "code",
    "id": "K6Z3J8ygVp_X"
   },
   "outputs": [
    {
     "data": {
      "text/plain": [
       "{'1': '1. Pirates of the Caribbean: On Stranger Tides ( tt1298650)',\n",
       " '2': '2. Gods and Generals( tt0279111)',\n",
       " '3': '3. Winnie the Pooh( tt1449283)',\n",
       " '4': '4. Средняя продолжительность фильмов: 109.6585494970884 минут',\n",
       " '5': '5. Медианное значение длительности фильмов: 107.0 минут',\n",
       " '6': '6. Avatar( tt0499549)',\n",
       " '7': '7. The Lone Ranger( tt1210819)',\n",
       " '8': '8. У 1478 фильмов из датасета объем сборов оказался выше бюджета',\n",
       " '9': '9. The Dark Knight( tt0468569)',\n",
       " '10': '10. The Lone Ranger( tt1210819)',\n",
       " '11': '11. Жанр Drama    782',\n",
       " '12': '12. Жанр Drama    560',\n",
       " '13': '13. Peter Jackson'}"
      ]
     },
     "execution_count": 21,
     "metadata": {},
     "output_type": "execute_result"
    }
   ],
   "source": [
    "task = '13.'\n",
    "df = data.groupby(['director']).sum()\n",
    "#df = df.explode('director')\n",
    "df = df.sort_values(by = 'revenue', ascending = False)\n",
    "df = df.head(1).index.tolist()\n",
    "df = ''.join(map(str, df))\n",
    "answers['13'] = '{0} {1}'.format(task, df)\n",
    "answers\n"
   ]
  },
  {
   "cell_type": "markdown",
   "metadata": {
    "colab_type": "text",
    "id": "PsYC9FgRVp_a"
   },
   "source": [
    "# 14. Какой режисер снял больше всего фильмов в стиле Action?"
   ]
  },
  {
   "cell_type": "code",
   "execution_count": 22,
   "metadata": {
    "colab": {},
    "colab_type": "code",
    "id": "wd2M-wHeVp_b"
   },
   "outputs": [
    {
     "name": "stderr",
     "output_type": "stream",
     "text": [
      "C:\\Users\\Dirty_S\\anaconda3\\lib\\site-packages\\pandas\\core\\generic.py:5303: SettingWithCopyWarning: \n",
      "A value is trying to be set on a copy of a slice from a DataFrame.\n",
      "Try using .loc[row_indexer,col_indexer] = value instead\n",
      "\n",
      "See the caveats in the documentation: https://pandas.pydata.org/pandas-docs/stable/user_guide/indexing.html#returning-a-view-versus-a-copy\n",
      "  self[name] = value\n"
     ]
    },
    {
     "data": {
      "text/plain": [
       "{'1': '1. Pirates of the Caribbean: On Stranger Tides ( tt1298650)',\n",
       " '2': '2. Gods and Generals( tt0279111)',\n",
       " '3': '3. Winnie the Pooh( tt1449283)',\n",
       " '4': '4. Средняя продолжительность фильмов: 109.6585494970884 минут',\n",
       " '5': '5. Медианное значение длительности фильмов: 107.0 минут',\n",
       " '6': '6. Avatar( tt0499549)',\n",
       " '7': '7. The Lone Ranger( tt1210819)',\n",
       " '8': '8. У 1478 фильмов из датасета объем сборов оказался выше бюджета',\n",
       " '9': '9. The Dark Knight( tt0468569)',\n",
       " '10': '10. The Lone Ranger( tt1210819)',\n",
       " '11': '11. Жанр Drama    782',\n",
       " '12': '12. Жанр Drama    560',\n",
       " '13': '13. Peter Jackson',\n",
       " '14': '14. Robert Rodriguez'}"
      ]
     },
     "execution_count": 22,
     "metadata": {},
     "output_type": "execute_result"
    }
   ],
   "source": [
    "task = '14.'\n",
    "df = data[data.genres.str.contains('Action') == True]\n",
    "df.director = df.director.str.split('|')\n",
    "df = df.explode('director')\n",
    "a = df.director.value_counts().head(1).index.tolist()\n",
    "a = ''.join(map(str, a))\n",
    "answers['14'] = '{0} {1}'.format(task, a)\n",
    "answers"
   ]
  },
  {
   "cell_type": "markdown",
   "metadata": {
    "colab_type": "text",
    "id": "PQ0KciD7Vp_f"
   },
   "source": [
    "# 15. Фильмы с каким актером принесли самые высокие кассовые сборы в 2012 году? "
   ]
  },
  {
   "cell_type": "code",
   "execution_count": 23,
   "metadata": {
    "colab": {},
    "colab_type": "code",
    "id": "aga62oeKVp_g"
   },
   "outputs": [
    {
     "data": {
      "text/plain": [
       "{'1': '1. Pirates of the Caribbean: On Stranger Tides ( tt1298650)',\n",
       " '2': '2. Gods and Generals( tt0279111)',\n",
       " '3': '3. Winnie the Pooh( tt1449283)',\n",
       " '4': '4. Средняя продолжительность фильмов: 109.6585494970884 минут',\n",
       " '5': '5. Медианное значение длительности фильмов: 107.0 минут',\n",
       " '6': '6. Avatar( tt0499549)',\n",
       " '7': '7. The Lone Ranger( tt1210819)',\n",
       " '8': '8. У 1478 фильмов из датасета объем сборов оказался выше бюджета',\n",
       " '9': '9. The Dark Knight( tt0468569)',\n",
       " '10': '10. The Lone Ranger( tt1210819)',\n",
       " '11': '11. Жанр Drama    782',\n",
       " '12': '12. Жанр Drama    560',\n",
       " '13': '13. Peter Jackson',\n",
       " '14': '14. Robert Rodriguez',\n",
       " '15': '15. Chris Hemsworth'}"
      ]
     },
     "execution_count": 23,
     "metadata": {},
     "output_type": "execute_result"
    }
   ],
   "source": [
    "task = '15.'\n",
    "df = data[data['release_year'] == 2012].copy()\n",
    "df['actors'] = df.cast.str.split('|')\n",
    "df = df.explode('actors')\n",
    "df = df.groupby(['actors'])['revenue'].sum().sort_values(ascending = False)\n",
    "#print(df.pivot_table(columns = 'actors', index = 'original_title', values = 'revenue', aggfunc = 'sum'))\n",
    "#df = df.keys()\n",
    "#df = df['actors']\n",
    "df = df.head(1).index.tolist()\n",
    "df = ''.join(map(str, df))\n",
    "answers['15'] = '{0} {1}'.format(task, df)\n",
    "answers"
   ]
  },
  {
   "cell_type": "markdown",
   "metadata": {
    "colab_type": "text",
    "id": "mWHyyL7QVp_j"
   },
   "source": [
    "# 16. Какой актер снялся в большем количестве высокобюджетных фильмов?"
   ]
  },
  {
   "cell_type": "code",
   "execution_count": 24,
   "metadata": {
    "colab": {},
    "colab_type": "code",
    "id": "qQtmHKTFVp_k"
   },
   "outputs": [
    {
     "data": {
      "text/plain": [
       "{'1': '1. Pirates of the Caribbean: On Stranger Tides ( tt1298650)',\n",
       " '2': '2. Gods and Generals( tt0279111)',\n",
       " '3': '3. Winnie the Pooh( tt1449283)',\n",
       " '4': '4. Средняя продолжительность фильмов: 109.6585494970884 минут',\n",
       " '5': '5. Медианное значение длительности фильмов: 107.0 минут',\n",
       " '6': '6. Avatar( tt0499549)',\n",
       " '7': '7. The Lone Ranger( tt1210819)',\n",
       " '8': '8. У 1478 фильмов из датасета объем сборов оказался выше бюджета',\n",
       " '9': '9. The Dark Knight( tt0468569)',\n",
       " '10': '10. The Lone Ranger( tt1210819)',\n",
       " '11': '11. Жанр Drama    782',\n",
       " '12': '12. Жанр Drama    560',\n",
       " '13': '13. Peter Jackson',\n",
       " '14': '14. Robert Rodriguez',\n",
       " '15': '15. Chris Hemsworth',\n",
       " '16': '16. Matt Damon'}"
      ]
     },
     "execution_count": 24,
     "metadata": {},
     "output_type": "execute_result"
    }
   ],
   "source": [
    "task = '16.'\n",
    "df = data.copy()\n",
    "df.cast = df.cast.str.split('|')\n",
    "df = df.explode('cast')\n",
    "high_bfilm = df[df.budget > df.budget.mean()]\n",
    "hbf_actor = high_bfilm['cast'].value_counts()\n",
    "hbf_actor = hbf_actor.head(1).index.tolist()\n",
    "hbf_actor = ''.join(map(str, hbf_actor))\n",
    "answers['16'] = '{0} {1}'.format(task, hbf_actor)\n",
    "answers"
   ]
  },
  {
   "cell_type": "markdown",
   "metadata": {
    "colab_type": "text",
    "id": "NIh6AaW5Vp_n"
   },
   "source": [
    "# 17. В фильмах какого жанра больше всего снимался Nicolas Cage? "
   ]
  },
  {
   "cell_type": "code",
   "execution_count": 25,
   "metadata": {
    "colab": {},
    "colab_type": "code",
    "id": "H74SJDIBVp_n"
   },
   "outputs": [
    {
     "data": {
      "text/html": [
       "<div>\n",
       "<style scoped>\n",
       "    .dataframe tbody tr th:only-of-type {\n",
       "        vertical-align: middle;\n",
       "    }\n",
       "\n",
       "    .dataframe tbody tr th {\n",
       "        vertical-align: top;\n",
       "    }\n",
       "\n",
       "    .dataframe thead th {\n",
       "        text-align: right;\n",
       "    }\n",
       "</style>\n",
       "<table border=\"1\" class=\"dataframe\">\n",
       "  <thead>\n",
       "    <tr style=\"text-align: right;\">\n",
       "      <th></th>\n",
       "      <th>imdb_id</th>\n",
       "      <th>budget</th>\n",
       "      <th>revenue</th>\n",
       "      <th>original_title</th>\n",
       "      <th>cast</th>\n",
       "      <th>director</th>\n",
       "      <th>tagline</th>\n",
       "      <th>overview</th>\n",
       "      <th>runtime</th>\n",
       "      <th>genres</th>\n",
       "      <th>production_companies</th>\n",
       "      <th>release_date</th>\n",
       "      <th>vote_average</th>\n",
       "      <th>release_year</th>\n",
       "      <th>profit</th>\n",
       "    </tr>\n",
       "  </thead>\n",
       "  <tbody>\n",
       "    <tr>\n",
       "      <th>0</th>\n",
       "      <td>tt0369610</td>\n",
       "      <td>150000000</td>\n",
       "      <td>1513528810</td>\n",
       "      <td>Jurassic World</td>\n",
       "      <td>Chris Pratt|Bryce Dallas Howard|Irrfan Khan|Vi...</td>\n",
       "      <td>Colin Trevorrow</td>\n",
       "      <td>The park is open.</td>\n",
       "      <td>Twenty-two years after the events of Jurassic ...</td>\n",
       "      <td>124</td>\n",
       "      <td>[Action, Adventure, Science Fiction, Thriller]</td>\n",
       "      <td>Universal Studios|Amblin Entertainment|Legenda...</td>\n",
       "      <td>6/9/2015</td>\n",
       "      <td>6.5</td>\n",
       "      <td>2015</td>\n",
       "      <td>1363528810</td>\n",
       "    </tr>\n",
       "    <tr>\n",
       "      <th>1</th>\n",
       "      <td>tt1392190</td>\n",
       "      <td>150000000</td>\n",
       "      <td>378436354</td>\n",
       "      <td>Mad Max: Fury Road</td>\n",
       "      <td>Tom Hardy|Charlize Theron|Hugh Keays-Byrne|Nic...</td>\n",
       "      <td>George Miller</td>\n",
       "      <td>What a Lovely Day.</td>\n",
       "      <td>An apocalyptic story set in the furthest reach...</td>\n",
       "      <td>120</td>\n",
       "      <td>[Action, Adventure, Science Fiction, Thriller]</td>\n",
       "      <td>Village Roadshow Pictures|Kennedy Miller Produ...</td>\n",
       "      <td>5/13/2015</td>\n",
       "      <td>7.1</td>\n",
       "      <td>2015</td>\n",
       "      <td>228436354</td>\n",
       "    </tr>\n",
       "    <tr>\n",
       "      <th>2</th>\n",
       "      <td>tt2908446</td>\n",
       "      <td>110000000</td>\n",
       "      <td>295238201</td>\n",
       "      <td>Insurgent</td>\n",
       "      <td>Shailene Woodley|Theo James|Kate Winslet|Ansel...</td>\n",
       "      <td>Robert Schwentke</td>\n",
       "      <td>One Choice Can Destroy You</td>\n",
       "      <td>Beatrice Prior must confront her inner demons ...</td>\n",
       "      <td>119</td>\n",
       "      <td>[Adventure, Science Fiction, Thriller]</td>\n",
       "      <td>Summit Entertainment|Mandeville Films|Red Wago...</td>\n",
       "      <td>3/18/2015</td>\n",
       "      <td>6.3</td>\n",
       "      <td>2015</td>\n",
       "      <td>185238201</td>\n",
       "    </tr>\n",
       "    <tr>\n",
       "      <th>3</th>\n",
       "      <td>tt2488496</td>\n",
       "      <td>200000000</td>\n",
       "      <td>2068178225</td>\n",
       "      <td>Star Wars: The Force Awakens</td>\n",
       "      <td>Harrison Ford|Mark Hamill|Carrie Fisher|Adam D...</td>\n",
       "      <td>J.J. Abrams</td>\n",
       "      <td>Every generation has a story.</td>\n",
       "      <td>Thirty years after defeating the Galactic Empi...</td>\n",
       "      <td>136</td>\n",
       "      <td>[Action, Adventure, Science Fiction, Fantasy]</td>\n",
       "      <td>Lucasfilm|Truenorth Productions|Bad Robot</td>\n",
       "      <td>12/15/2015</td>\n",
       "      <td>7.5</td>\n",
       "      <td>2015</td>\n",
       "      <td>1868178225</td>\n",
       "    </tr>\n",
       "    <tr>\n",
       "      <th>4</th>\n",
       "      <td>tt2820852</td>\n",
       "      <td>190000000</td>\n",
       "      <td>1506249360</td>\n",
       "      <td>Furious 7</td>\n",
       "      <td>Vin Diesel|Paul Walker|Jason Statham|Michelle ...</td>\n",
       "      <td>James Wan</td>\n",
       "      <td>Vengeance Hits Home</td>\n",
       "      <td>Deckard Shaw seeks revenge against Dominic Tor...</td>\n",
       "      <td>137</td>\n",
       "      <td>[Action, Crime, Thriller]</td>\n",
       "      <td>Universal Pictures|Original Film|Media Rights ...</td>\n",
       "      <td>4/1/2015</td>\n",
       "      <td>7.3</td>\n",
       "      <td>2015</td>\n",
       "      <td>1316249360</td>\n",
       "    </tr>\n",
       "    <tr>\n",
       "      <th>...</th>\n",
       "      <td>...</td>\n",
       "      <td>...</td>\n",
       "      <td>...</td>\n",
       "      <td>...</td>\n",
       "      <td>...</td>\n",
       "      <td>...</td>\n",
       "      <td>...</td>\n",
       "      <td>...</td>\n",
       "      <td>...</td>\n",
       "      <td>...</td>\n",
       "      <td>...</td>\n",
       "      <td>...</td>\n",
       "      <td>...</td>\n",
       "      <td>...</td>\n",
       "      <td>...</td>\n",
       "    </tr>\n",
       "    <tr>\n",
       "      <th>1884</th>\n",
       "      <td>tt0120903</td>\n",
       "      <td>75000000</td>\n",
       "      <td>157299717</td>\n",
       "      <td>X-Men</td>\n",
       "      <td>Patrick Stewart|Hugh Jackman|Ian McKellen|Hall...</td>\n",
       "      <td>Bryan Singer</td>\n",
       "      <td>Evolution Begins</td>\n",
       "      <td>Two mutants, Rogue and Wolverine, come to a pr...</td>\n",
       "      <td>104</td>\n",
       "      <td>[Adventure, Action, Science Fiction]</td>\n",
       "      <td>Twentieth Century Fox Film Corporation|Donners...</td>\n",
       "      <td>7/13/2000</td>\n",
       "      <td>6.6</td>\n",
       "      <td>2000</td>\n",
       "      <td>82299717</td>\n",
       "    </tr>\n",
       "    <tr>\n",
       "      <th>1885</th>\n",
       "      <td>tt0192255</td>\n",
       "      <td>22000000</td>\n",
       "      <td>13555988</td>\n",
       "      <td>The Little Vampire</td>\n",
       "      <td>Richard E. Grant|Jonathan Lipnicki|Jim Carter|...</td>\n",
       "      <td>Uli Edel</td>\n",
       "      <td>They're not just best friends, they're blood b...</td>\n",
       "      <td>Based on the popular books, the story tells of...</td>\n",
       "      <td>95</td>\n",
       "      <td>[Horror, Family, Foreign]</td>\n",
       "      <td>New Line Cinema</td>\n",
       "      <td>10/27/2000</td>\n",
       "      <td>6.4</td>\n",
       "      <td>2000</td>\n",
       "      <td>-8444012</td>\n",
       "    </tr>\n",
       "    <tr>\n",
       "      <th>1886</th>\n",
       "      <td>tt0131704</td>\n",
       "      <td>76000000</td>\n",
       "      <td>35134820</td>\n",
       "      <td>The Adventures of Rocky &amp; Bullwinkle</td>\n",
       "      <td>Rene Russo|Jason Alexander|Piper Perabo|Randy ...</td>\n",
       "      <td>Des McAnuff</td>\n",
       "      <td>This summer it's not the same old bull.</td>\n",
       "      <td>Rocky and Bullwinkle have been living off the ...</td>\n",
       "      <td>88</td>\n",
       "      <td>[Adventure, Animation, Action, Comedy, Family]</td>\n",
       "      <td>Universal Pictures|Capella International|KC Me...</td>\n",
       "      <td>6/30/2000</td>\n",
       "      <td>4.0</td>\n",
       "      <td>2000</td>\n",
       "      <td>-40865180</td>\n",
       "    </tr>\n",
       "    <tr>\n",
       "      <th>1887</th>\n",
       "      <td>tt0162983</td>\n",
       "      <td>40000000</td>\n",
       "      <td>36037909</td>\n",
       "      <td>Hanging Up</td>\n",
       "      <td>Meg Ryan|Diane Keaton|Lisa Kudrow|Walter Matth...</td>\n",
       "      <td>Diane Keaton</td>\n",
       "      <td>Every family has a few hang-ups.</td>\n",
       "      <td>A trio of sisters bond over their ambivalence ...</td>\n",
       "      <td>94</td>\n",
       "      <td>[Comedy, Drama]</td>\n",
       "      <td>Laurence Mark Productions|Columbia Pictures Co...</td>\n",
       "      <td>2/16/2000</td>\n",
       "      <td>5.2</td>\n",
       "      <td>2000</td>\n",
       "      <td>-3962091</td>\n",
       "    </tr>\n",
       "    <tr>\n",
       "      <th>1888</th>\n",
       "      <td>tt0163676</td>\n",
       "      <td>15000000</td>\n",
       "      <td>5217498</td>\n",
       "      <td>The In Crowd</td>\n",
       "      <td>Susan Ward|Lori Heuring|Matthew Settle|Nathan ...</td>\n",
       "      <td>Mary Lambert</td>\n",
       "      <td>What would you do to get in?</td>\n",
       "      <td>A mentally disturbed young woman takes a job a...</td>\n",
       "      <td>105</td>\n",
       "      <td>[Thriller]</td>\n",
       "      <td>Warner Bros. Pictures</td>\n",
       "      <td>7/19/2000</td>\n",
       "      <td>5.2</td>\n",
       "      <td>2000</td>\n",
       "      <td>-9782502</td>\n",
       "    </tr>\n",
       "  </tbody>\n",
       "</table>\n",
       "<p>1889 rows × 15 columns</p>\n",
       "</div>"
      ],
      "text/plain": [
       "        imdb_id     budget     revenue                        original_title  \\\n",
       "0     tt0369610  150000000  1513528810                        Jurassic World   \n",
       "1     tt1392190  150000000   378436354                    Mad Max: Fury Road   \n",
       "2     tt2908446  110000000   295238201                             Insurgent   \n",
       "3     tt2488496  200000000  2068178225          Star Wars: The Force Awakens   \n",
       "4     tt2820852  190000000  1506249360                             Furious 7   \n",
       "...         ...        ...         ...                                   ...   \n",
       "1884  tt0120903   75000000   157299717                                 X-Men   \n",
       "1885  tt0192255   22000000    13555988                    The Little Vampire   \n",
       "1886  tt0131704   76000000    35134820  The Adventures of Rocky & Bullwinkle   \n",
       "1887  tt0162983   40000000    36037909                            Hanging Up   \n",
       "1888  tt0163676   15000000     5217498                          The In Crowd   \n",
       "\n",
       "                                                   cast          director  \\\n",
       "0     Chris Pratt|Bryce Dallas Howard|Irrfan Khan|Vi...   Colin Trevorrow   \n",
       "1     Tom Hardy|Charlize Theron|Hugh Keays-Byrne|Nic...     George Miller   \n",
       "2     Shailene Woodley|Theo James|Kate Winslet|Ansel...  Robert Schwentke   \n",
       "3     Harrison Ford|Mark Hamill|Carrie Fisher|Adam D...       J.J. Abrams   \n",
       "4     Vin Diesel|Paul Walker|Jason Statham|Michelle ...         James Wan   \n",
       "...                                                 ...               ...   \n",
       "1884  Patrick Stewart|Hugh Jackman|Ian McKellen|Hall...      Bryan Singer   \n",
       "1885  Richard E. Grant|Jonathan Lipnicki|Jim Carter|...          Uli Edel   \n",
       "1886  Rene Russo|Jason Alexander|Piper Perabo|Randy ...       Des McAnuff   \n",
       "1887  Meg Ryan|Diane Keaton|Lisa Kudrow|Walter Matth...      Diane Keaton   \n",
       "1888  Susan Ward|Lori Heuring|Matthew Settle|Nathan ...      Mary Lambert   \n",
       "\n",
       "                                                tagline  \\\n",
       "0                                     The park is open.   \n",
       "1                                    What a Lovely Day.   \n",
       "2                            One Choice Can Destroy You   \n",
       "3                         Every generation has a story.   \n",
       "4                                   Vengeance Hits Home   \n",
       "...                                                 ...   \n",
       "1884                                   Evolution Begins   \n",
       "1885  They're not just best friends, they're blood b...   \n",
       "1886            This summer it's not the same old bull.   \n",
       "1887                   Every family has a few hang-ups.   \n",
       "1888                       What would you do to get in?   \n",
       "\n",
       "                                               overview  runtime  \\\n",
       "0     Twenty-two years after the events of Jurassic ...      124   \n",
       "1     An apocalyptic story set in the furthest reach...      120   \n",
       "2     Beatrice Prior must confront her inner demons ...      119   \n",
       "3     Thirty years after defeating the Galactic Empi...      136   \n",
       "4     Deckard Shaw seeks revenge against Dominic Tor...      137   \n",
       "...                                                 ...      ...   \n",
       "1884  Two mutants, Rogue and Wolverine, come to a pr...      104   \n",
       "1885  Based on the popular books, the story tells of...       95   \n",
       "1886  Rocky and Bullwinkle have been living off the ...       88   \n",
       "1887  A trio of sisters bond over their ambivalence ...       94   \n",
       "1888  A mentally disturbed young woman takes a job a...      105   \n",
       "\n",
       "                                              genres  \\\n",
       "0     [Action, Adventure, Science Fiction, Thriller]   \n",
       "1     [Action, Adventure, Science Fiction, Thriller]   \n",
       "2             [Adventure, Science Fiction, Thriller]   \n",
       "3      [Action, Adventure, Science Fiction, Fantasy]   \n",
       "4                          [Action, Crime, Thriller]   \n",
       "...                                              ...   \n",
       "1884            [Adventure, Action, Science Fiction]   \n",
       "1885                       [Horror, Family, Foreign]   \n",
       "1886  [Adventure, Animation, Action, Comedy, Family]   \n",
       "1887                                 [Comedy, Drama]   \n",
       "1888                                      [Thriller]   \n",
       "\n",
       "                                   production_companies release_date  \\\n",
       "0     Universal Studios|Amblin Entertainment|Legenda...     6/9/2015   \n",
       "1     Village Roadshow Pictures|Kennedy Miller Produ...    5/13/2015   \n",
       "2     Summit Entertainment|Mandeville Films|Red Wago...    3/18/2015   \n",
       "3             Lucasfilm|Truenorth Productions|Bad Robot   12/15/2015   \n",
       "4     Universal Pictures|Original Film|Media Rights ...     4/1/2015   \n",
       "...                                                 ...          ...   \n",
       "1884  Twentieth Century Fox Film Corporation|Donners...    7/13/2000   \n",
       "1885                                    New Line Cinema   10/27/2000   \n",
       "1886  Universal Pictures|Capella International|KC Me...    6/30/2000   \n",
       "1887  Laurence Mark Productions|Columbia Pictures Co...    2/16/2000   \n",
       "1888                              Warner Bros. Pictures    7/19/2000   \n",
       "\n",
       "      vote_average  release_year      profit  \n",
       "0              6.5          2015  1363528810  \n",
       "1              7.1          2015   228436354  \n",
       "2              6.3          2015   185238201  \n",
       "3              7.5          2015  1868178225  \n",
       "4              7.3          2015  1316249360  \n",
       "...            ...           ...         ...  \n",
       "1884           6.6          2000    82299717  \n",
       "1885           6.4          2000    -8444012  \n",
       "1886           4.0          2000   -40865180  \n",
       "1887           5.2          2000    -3962091  \n",
       "1888           5.2          2000    -9782502  \n",
       "\n",
       "[1889 rows x 15 columns]"
      ]
     },
     "execution_count": 25,
     "metadata": {},
     "output_type": "execute_result"
    }
   ],
   "source": [
    "task = '17.'\n",
    "df = data.copy()\n",
    "df.genres = df.genres.str.split('|')\n",
    "\n",
    "#df = df.explode('genres') \n",
    "#df.cast = df.cast.str.split('|')\n",
    "#df = df.explode('cast') \n",
    "#pivot = df.pivot_table(columns = 'genres', index = 'cast', values = 'original_title', aggfunc = 'count').loc['Nicolas Cage']\n",
    "#pivot = pivot.sort_values(ascending = False)\n",
    "#pivot = pivot.head(1).index.tolist()\n",
    "#pivot = ''.join(map(str, pivot))\n",
    "#answers['17'] = '{0} {1}'.format(task, pivot)\n",
    "df\n",
    "#answers"
   ]
  },
  {
   "cell_type": "markdown",
   "metadata": {
    "colab_type": "text",
    "id": "RqOmPRfWVp_q"
   },
   "source": [
    "# 18. Самый убыточный фильм от Paramount Pictures"
   ]
  },
  {
   "cell_type": "code",
   "execution_count": null,
   "metadata": {},
   "outputs": [],
   "source": []
  },
  {
   "cell_type": "code",
   "execution_count": 26,
   "metadata": {
    "colab": {},
    "colab_type": "code",
    "id": "9E_B0Y96Vp_r"
   },
   "outputs": [
    {
     "data": {
      "text/plain": [
       "{'1': '1. Pirates of the Caribbean: On Stranger Tides ( tt1298650)',\n",
       " '2': '2. Gods and Generals( tt0279111)',\n",
       " '3': '3. Winnie the Pooh( tt1449283)',\n",
       " '4': '4. Средняя продолжительность фильмов: 109.6585494970884 минут',\n",
       " '5': '5. Медианное значение длительности фильмов: 107.0 минут',\n",
       " '6': '6. Avatar( tt0499549)',\n",
       " '7': '7. The Lone Ranger( tt1210819)',\n",
       " '8': '8. У 1478 фильмов из датасета объем сборов оказался выше бюджета',\n",
       " '9': '9. The Dark Knight( tt0468569)',\n",
       " '10': '10. The Lone Ranger( tt1210819)',\n",
       " '11': '11. Жанр Drama    782',\n",
       " '12': '12. Жанр Drama    560',\n",
       " '13': '13. Peter Jackson',\n",
       " '14': '14. Robert Rodriguez',\n",
       " '15': '15. Chris Hemsworth',\n",
       " '16': '16. Matt Damon',\n",
       " '18': '18. K-19: The Widowmaker'}"
      ]
     },
     "execution_count": 26,
     "metadata": {},
     "output_type": "execute_result"
    }
   ],
   "source": [
    "task = '18.'\n",
    "df = data.copy()\n",
    "df.production_companies = df.production_companies.str.split('|')\n",
    "df = df.explode('production_companies') \n",
    "\n",
    "df = df[df['production_companies'] == 'Paramount Pictures' ]\n",
    "df = df[df['profit'] == df['profit'].min()]\n",
    "a = df['original_title']\n",
    "a = ''.join(map(str, a))\n",
    "answers['18'] = '{0} {1}'.format(task, a)\n",
    "answers"
   ]
  },
  {
   "cell_type": "markdown",
   "metadata": {
    "colab_type": "text",
    "id": "vS8Ur6ddVp_u"
   },
   "source": [
    "# 19. Какой год стал самым успешным по суммарным кассовым сборам?"
   ]
  },
  {
   "cell_type": "code",
   "execution_count": 27,
   "metadata": {
    "colab": {},
    "colab_type": "code",
    "id": "Dnbt4GdIVp_v"
   },
   "outputs": [
    {
     "data": {
      "text/plain": [
       "{'1': '1. Pirates of the Caribbean: On Stranger Tides ( tt1298650)',\n",
       " '2': '2. Gods and Generals( tt0279111)',\n",
       " '3': '3. Winnie the Pooh( tt1449283)',\n",
       " '4': '4. Средняя продолжительность фильмов: 109.6585494970884 минут',\n",
       " '5': '5. Медианное значение длительности фильмов: 107.0 минут',\n",
       " '6': '6. Avatar( tt0499549)',\n",
       " '7': '7. The Lone Ranger( tt1210819)',\n",
       " '8': '8. У 1478 фильмов из датасета объем сборов оказался выше бюджета',\n",
       " '9': '9. The Dark Knight( tt0468569)',\n",
       " '10': '10. The Lone Ranger( tt1210819)',\n",
       " '11': '11. Жанр Drama    782',\n",
       " '12': '12. Жанр Drama    560',\n",
       " '13': '13. Peter Jackson',\n",
       " '14': '14. Robert Rodriguez',\n",
       " '15': '15. Chris Hemsworth',\n",
       " '16': '16. Matt Damon',\n",
       " '18': '18. K-19: The Widowmaker',\n",
       " '19': '19. 2015'}"
      ]
     },
     "execution_count": 27,
     "metadata": {},
     "output_type": "execute_result"
    }
   ],
   "source": [
    "task = '19.'\n",
    "df = data.copy()\n",
    "df = df.groupby(['release_year'])['revenue'].sum().sort_values(ascending = False)\n",
    "df = df.head(1).index.tolist()\n",
    "df = ''.join(map(str, df))\n",
    "answers['19'] = '{0} {1}'.format(task, df)\n",
    "answers\n"
   ]
  },
  {
   "cell_type": "markdown",
   "metadata": {
    "colab_type": "text",
    "id": "JAzJh4QAVp_z"
   },
   "source": [
    "# 20. Какой самый прибыльный год для студии Warner Bros?"
   ]
  },
  {
   "cell_type": "code",
   "execution_count": 28,
   "metadata": {
    "colab": {},
    "colab_type": "code",
    "id": "wgVu02DEVp_0"
   },
   "outputs": [
    {
     "data": {
      "text/plain": [
       "{'1': '1. Pirates of the Caribbean: On Stranger Tides ( tt1298650)',\n",
       " '2': '2. Gods and Generals( tt0279111)',\n",
       " '3': '3. Winnie the Pooh( tt1449283)',\n",
       " '4': '4. Средняя продолжительность фильмов: 109.6585494970884 минут',\n",
       " '5': '5. Медианное значение длительности фильмов: 107.0 минут',\n",
       " '6': '6. Avatar( tt0499549)',\n",
       " '7': '7. The Lone Ranger( tt1210819)',\n",
       " '8': '8. У 1478 фильмов из датасета объем сборов оказался выше бюджета',\n",
       " '9': '9. The Dark Knight( tt0468569)',\n",
       " '10': '10. The Lone Ranger( tt1210819)',\n",
       " '11': '11. Жанр Drama    782',\n",
       " '12': '12. Жанр Drama    560',\n",
       " '13': '13. Peter Jackson',\n",
       " '14': '14. Robert Rodriguez',\n",
       " '15': '15. Chris Hemsworth',\n",
       " '16': '16. Matt Damon',\n",
       " '18': '18. K-19: The Widowmaker',\n",
       " '19': '19. 2015',\n",
       " '20': '20. 2014'}"
      ]
     },
     "execution_count": 28,
     "metadata": {},
     "output_type": "execute_result"
    }
   ],
   "source": [
    "task = '20.'\n",
    "df = data.copy()\n",
    "df.production_companies = df.production_companies.str.split('|')\n",
    "df = df.explode('production_companies') \n",
    "df = df[df['production_companies'].str.contains('Warner',regex=False, case = False)]\n",
    "df = df.groupby(['release_year']).sum()\n",
    "df = df[df['profit'] == df['profit'].max()]\n",
    "df = df.head(1).index.tolist()\n",
    "df = ''.join(map(str, df))\n",
    "answers['20'] = '{0} {1}'.format(task, df)\n",
    "answers"
   ]
  },
  {
   "cell_type": "markdown",
   "metadata": {
    "colab_type": "text",
    "id": "8Im1S2HRVp_4"
   },
   "source": [
    "# 21. В каком месяце за все годы суммарно вышло больше всего фильмов?"
   ]
  },
  {
   "cell_type": "code",
   "execution_count": 29,
   "metadata": {
    "colab": {},
    "colab_type": "code",
    "id": "lev6TH7gVp_4"
   },
   "outputs": [
    {
     "data": {
      "text/plain": [
       "{'1': '1. Pirates of the Caribbean: On Stranger Tides ( tt1298650)',\n",
       " '2': '2. Gods and Generals( tt0279111)',\n",
       " '3': '3. Winnie the Pooh( tt1449283)',\n",
       " '4': '4. Средняя продолжительность фильмов: 109.6585494970884 минут',\n",
       " '5': '5. Медианное значение длительности фильмов: 107.0 минут',\n",
       " '6': '6. Avatar( tt0499549)',\n",
       " '7': '7. The Lone Ranger( tt1210819)',\n",
       " '8': '8. У 1478 фильмов из датасета объем сборов оказался выше бюджета',\n",
       " '9': '9. The Dark Knight( tt0468569)',\n",
       " '10': '10. The Lone Ranger( tt1210819)',\n",
       " '11': '11. Жанр Drama    782',\n",
       " '12': '12. Жанр Drama    560',\n",
       " '13': '13. Peter Jackson',\n",
       " '14': '14. Robert Rodriguez',\n",
       " '15': '15. Chris Hemsworth',\n",
       " '16': '16. Matt Damon',\n",
       " '18': '18. K-19: The Widowmaker',\n",
       " '19': '19. 2015',\n",
       " '20': '20. 2014',\n",
       " '21': '21. 9'}"
      ]
     },
     "execution_count": 29,
     "metadata": {},
     "output_type": "execute_result"
    }
   ],
   "source": [
    "task = '21.'\n",
    "df = data.copy()\n",
    "df.release_date = df.release_date.str.split('/',expand=True)\n",
    "df = df.explode('release_date').release_date.value_counts(sort= True)\n",
    "df = df.head(1).index.tolist()\n",
    "df = ''.join(map(str, df))\n",
    "answers['21'] = '{0} {1}'.format(task, df)\n",
    "answers"
   ]
  },
  {
   "cell_type": "markdown",
   "metadata": {
    "colab_type": "text",
    "id": "uAJsZ_NeVp_7"
   },
   "source": [
    "# 22. Сколько суммарно вышло фильмов летом? (за июнь, июль, август)"
   ]
  },
  {
   "cell_type": "code",
   "execution_count": 30,
   "metadata": {
    "colab": {},
    "colab_type": "code",
    "id": "Aa-hEREoVp_8"
   },
   "outputs": [
    {
     "data": {
      "text/plain": [
       "450"
      ]
     },
     "execution_count": 30,
     "metadata": {},
     "output_type": "execute_result"
    }
   ],
   "source": [
    "task = '22.'\n",
    "df = data.copy()\n",
    "df[['month','day','year']] = df.release_date.str.split('/', expand=True)\n",
    "df = df.month.value_counts(sort= False)\n",
    "#df = df.head(3).sum()\n",
    "df = df['6']+df['7']+df['8']\n",
    "df\n",
    "#answers['22'] = '{0} {1}'.format(task, df)\n",
    "#answers"
   ]
  },
  {
   "cell_type": "markdown",
   "metadata": {
    "colab_type": "text",
    "id": "G94ppOY1VqAA"
   },
   "source": [
    "# 23. Для какого режиссера зима – самое продуктивное время года? "
   ]
  },
  {
   "cell_type": "code",
   "execution_count": 31,
   "metadata": {
    "colab": {},
    "colab_type": "code",
    "id": "RhNTsamuVqAB"
   },
   "outputs": [
    {
     "data": {
      "text/plain": [
       "{'1': '1. Pirates of the Caribbean: On Stranger Tides ( tt1298650)',\n",
       " '2': '2. Gods and Generals( tt0279111)',\n",
       " '3': '3. Winnie the Pooh( tt1449283)',\n",
       " '4': '4. Средняя продолжительность фильмов: 109.6585494970884 минут',\n",
       " '5': '5. Медианное значение длительности фильмов: 107.0 минут',\n",
       " '6': '6. Avatar( tt0499549)',\n",
       " '7': '7. The Lone Ranger( tt1210819)',\n",
       " '8': '8. У 1478 фильмов из датасета объем сборов оказался выше бюджета',\n",
       " '9': '9. The Dark Knight( tt0468569)',\n",
       " '10': '10. The Lone Ranger( tt1210819)',\n",
       " '11': '11. Жанр Drama    782',\n",
       " '12': '12. Жанр Drama    560',\n",
       " '13': '13. Peter Jackson',\n",
       " '14': '14. Robert Rodriguez',\n",
       " '15': '15. Chris Hemsworth',\n",
       " '16': '16. Matt Damon',\n",
       " '18': '18. K-19: The Widowmaker',\n",
       " '19': '19. 2015',\n",
       " '20': '20. 2014',\n",
       " '21': '21. 9',\n",
       " '23': '23. Peter Jackson'}"
      ]
     },
     "execution_count": 31,
     "metadata": {},
     "output_type": "execute_result"
    }
   ],
   "source": [
    "task = '23.'\n",
    "df = data.copy()\n",
    "df[['month','day','year']] = df.release_date.str.split('/', expand=True)\n",
    "df.director = df.director.str.split('|')\n",
    "df = df.explode('director')\n",
    "df = df.query('month in [\"1\",\"2\",\"12\"]')\n",
    "df = df.director.value_counts(sort= True)\n",
    "df = df.head(1).index.tolist()\n",
    "df = ''.join(map(str, df))\n",
    "answers['23'] = '{0} {1}'.format(task, df)\n",
    "answers "
   ]
  },
  {
   "cell_type": "markdown",
   "metadata": {
    "colab_type": "text",
    "id": "RBo0JVjVVqAF"
   },
   "source": [
    "# 24. Какая студия дает самые длинные названия своим фильмам по количеству символов?"
   ]
  },
  {
   "cell_type": "code",
   "execution_count": 32,
   "metadata": {
    "colab": {},
    "colab_type": "code",
    "id": "QRGS8L0iVqAG"
   },
   "outputs": [
    {
     "data": {
      "text/plain": [
       "{'1': '1. Pirates of the Caribbean: On Stranger Tides ( tt1298650)',\n",
       " '2': '2. Gods and Generals( tt0279111)',\n",
       " '3': '3. Winnie the Pooh( tt1449283)',\n",
       " '4': '4. Средняя продолжительность фильмов: 109.6585494970884 минут',\n",
       " '5': '5. Медианное значение длительности фильмов: 107.0 минут',\n",
       " '6': '6. Avatar( tt0499549)',\n",
       " '7': '7. The Lone Ranger( tt1210819)',\n",
       " '8': '8. У 1478 фильмов из датасета объем сборов оказался выше бюджета',\n",
       " '9': '9. The Dark Knight( tt0468569)',\n",
       " '10': '10. The Lone Ranger( tt1210819)',\n",
       " '11': '11. Жанр Drama    782',\n",
       " '12': '12. Жанр Drama    560',\n",
       " '13': '13. Peter Jackson',\n",
       " '14': '14. Robert Rodriguez',\n",
       " '15': '15. Chris Hemsworth',\n",
       " '16': '16. Matt Damon',\n",
       " '18': '18. K-19: The Widowmaker',\n",
       " '19': '19. 2015',\n",
       " '20': '20. 2014',\n",
       " '21': '21. 9',\n",
       " '23': '23. Peter Jackson',\n",
       " '24': '24. Four By Two Productions'}"
      ]
     },
     "execution_count": 32,
     "metadata": {},
     "output_type": "execute_result"
    }
   ],
   "source": [
    "task = '24.'\n",
    "df = data.copy()\n",
    "df.production_companies = df.production_companies.str.split('|')\n",
    "df = df.explode('production_companies')\n",
    "df['original_title_len'] = df['original_title'].apply(lambda x: len(x))\n",
    "df = df.groupby(['production_companies'])['original_title_len'].mean().sort_values(ascending = False)\n",
    "df = df.head(1).index.tolist()\n",
    "df = ''.join(map(str, df))\n",
    "answers['24'] = '{0} {1}'.format(task, df)\n",
    "answers "
   ]
  },
  {
   "cell_type": "markdown",
   "metadata": {
    "colab_type": "text",
    "id": "9G0hbvR7VqAK"
   },
   "source": [
    "# 25. Описание фильмов какой студии в среднем самые длинные по количеству слов?"
   ]
  },
  {
   "cell_type": "code",
   "execution_count": 33,
   "metadata": {
    "colab": {},
    "colab_type": "code",
    "id": "Ge2GsLNxVqAK"
   },
   "outputs": [
    {
     "data": {
      "text/plain": [
       "{'1': '1. Pirates of the Caribbean: On Stranger Tides ( tt1298650)',\n",
       " '2': '2. Gods and Generals( tt0279111)',\n",
       " '3': '3. Winnie the Pooh( tt1449283)',\n",
       " '4': '4. Средняя продолжительность фильмов: 109.6585494970884 минут',\n",
       " '5': '5. Медианное значение длительности фильмов: 107.0 минут',\n",
       " '6': '6. Avatar( tt0499549)',\n",
       " '7': '7. The Lone Ranger( tt1210819)',\n",
       " '8': '8. У 1478 фильмов из датасета объем сборов оказался выше бюджета',\n",
       " '9': '9. The Dark Knight( tt0468569)',\n",
       " '10': '10. The Lone Ranger( tt1210819)',\n",
       " '11': '11. Жанр Drama    782',\n",
       " '12': '12. Жанр Drama    560',\n",
       " '13': '13. Peter Jackson',\n",
       " '14': '14. Robert Rodriguez',\n",
       " '15': '15. Chris Hemsworth',\n",
       " '16': '16. Matt Damon',\n",
       " '18': '18. K-19: The Widowmaker',\n",
       " '19': '19. 2015',\n",
       " '20': '20. 2014',\n",
       " '21': '21. 9',\n",
       " '23': '23. Peter Jackson',\n",
       " '24': '24. Four By Two Productions',\n",
       " '25': '25. Midnight Picture Show'}"
      ]
     },
     "execution_count": 33,
     "metadata": {},
     "output_type": "execute_result"
    }
   ],
   "source": [
    "task = '25.'\n",
    "df = data.copy()\n",
    "df.production_companies = df.production_companies.str.split('|')\n",
    "df = df.explode('production_companies')\n",
    "df['overview_len'] = df.overview.str.split(' ')\n",
    "#df['overview_len'] = df.overview_len.str.split(',')\n",
    "\n",
    "def words_num (x):\n",
    "    return len(x)\n",
    "#words_num('sdfsdgfrgdfgsf')\n",
    "df['overview_len'] = df.overview_len.apply(lambda x: words_num(x))\n",
    "df = df.groupby(['production_companies']).agg('mean').sort_values(by='overview_len', ascending=False)\n",
    "df = df.head(1).index.tolist()\n",
    "df = ''.join(map(str, df))\n",
    "answers['25'] = '{0} {1}'.format(task, df)\n",
    "answers \n"
   ]
  },
  {
   "cell_type": "markdown",
   "metadata": {
    "colab_type": "text",
    "id": "FJ1AFt90VqAP"
   },
   "source": [
    "# 26. Какие фильмы входят в 1 процент лучших по рейтингу? \n",
    "по vote_average"
   ]
  },
  {
   "cell_type": "code",
   "execution_count": 34,
   "metadata": {
    "colab": {},
    "colab_type": "code",
    "id": "8qmJVq4CVqAQ"
   },
   "outputs": [
    {
     "data": {
      "text/plain": [
       "array(['The Dark Knight', 'Interstellar', 'The Imitation Game',\n",
       "       'Inside Out', 'Room', 'The Wolf of Wall Street', 'Gone Girl',\n",
       "       '12 Years a Slave', 'Guardians of the Galaxy',\n",
       "       'The Lord of the Rings: The Return of the King', 'Memento',\n",
       "       'Inception', 'The Pianist', 'The Grand Budapest Hotel', 'Her',\n",
       "       'Spotlight', 'Big Hero 6', 'The Fault in Our Stars'], dtype=object)"
      ]
     },
     "execution_count": 34,
     "metadata": {},
     "output_type": "execute_result"
    }
   ],
   "source": [
    "task = '26.'\n",
    "df = data.copy()\n",
    "df = df.sort_values(by='vote_average', ascending=False)\n",
    "df = df[['original_title', 'vote_average']]\n",
    "df.reset_index(drop=True, inplace=True)\n",
    "df2 = int(len(df.index)/100)\n",
    "df = df.head(df2)\n",
    "df = df['original_title'].values\n",
    "df\n",
    "\n",
    "#.sort_values(by='overview_len', ascending=False)\n",
    "#['vote_average'].apply(lambda x: x)\n"
   ]
  },
  {
   "cell_type": "markdown",
   "metadata": {
    "colab_type": "text",
    "id": "MdXsUXbCVqAV"
   },
   "source": [
    "# 27. Какие актеры чаще всего снимаются в одном фильме вместе?\n"
   ]
  },
  {
   "cell_type": "markdown",
   "metadata": {
    "colab_type": "text",
    "id": "4ymnxEVoVqAW"
   },
   "source": [
    "ВАРИАНТ 2"
   ]
  },
  {
   "cell_type": "code",
   "execution_count": 35,
   "metadata": {},
   "outputs": [
    {
     "ename": "AttributeError",
     "evalue": "'list' object has no attribute 'isin'",
     "output_type": "error",
     "traceback": [
      "\u001b[1;31m---------------------------------------------------------------------------\u001b[0m",
      "\u001b[1;31mAttributeError\u001b[0m                            Traceback (most recent call last)",
      "\u001b[1;32m<ipython-input-35-0943b167f56e>\u001b[0m in \u001b[0;36m<module>\u001b[1;34m\u001b[0m\n\u001b[0;32m     19\u001b[0m \u001b[0mactors\u001b[0m\u001b[1;33m[\u001b[0m\u001b[1;36m1\u001b[0m\u001b[1;33m]\u001b[0m\u001b[1;33m\u001b[0m\u001b[1;33m\u001b[0m\u001b[0m\n\u001b[0;32m     20\u001b[0m \u001b[0mdf1\u001b[0m\u001b[1;33m[\u001b[0m\u001b[1;33m(\u001b[0m\u001b[0mdf1\u001b[0m\u001b[1;33m[\u001b[0m\u001b[1;34m'cast'\u001b[0m\u001b[1;33m]\u001b[0m \u001b[1;33m==\u001b[0m \u001b[1;34m'Samuel L. Jackson'\u001b[0m\u001b[1;33m)\u001b[0m \u001b[1;33m&\u001b[0m \u001b[1;33m(\u001b[0m\u001b[0mdf1\u001b[0m\u001b[1;33m[\u001b[0m\u001b[1;34m'cast'\u001b[0m\u001b[1;33m]\u001b[0m \u001b[1;33m==\u001b[0m \u001b[1;34m'Samuel L. Jackson'\u001b[0m\u001b[1;33m)\u001b[0m\u001b[1;33m]\u001b[0m\u001b[1;33m\u001b[0m\u001b[1;33m\u001b[0m\u001b[0m\n\u001b[1;32m---> 21\u001b[1;33m \u001b[0mactors\u001b[0m\u001b[1;33m.\u001b[0m\u001b[0misin\u001b[0m\u001b[1;33m(\u001b[0m\u001b[1;34m'Samuel L. Jackso'\u001b[0m\u001b[1;33m)\u001b[0m\u001b[1;33m\u001b[0m\u001b[1;33m\u001b[0m\u001b[0m\n\u001b[0m\u001b[0;32m     22\u001b[0m \u001b[1;33m\u001b[0m\u001b[0m\n\u001b[0;32m     23\u001b[0m \u001b[1;33m\u001b[0m\u001b[0m\n",
      "\u001b[1;31mAttributeError\u001b[0m: 'list' object has no attribute 'isin'"
     ]
    }
   ],
   "source": [
    "task = '27.'\n",
    "df = data.copy()\n",
    "df.cast = df.cast.str.split('|')\n",
    "df1 = df.explode('cast')\n",
    "df3 = df1.groupby(['original_title','cast']).sum()\n",
    "original_title_list = df1.original_title.value_counts().keys()\n",
    "df2 = df1.cast.value_counts().keys()\n",
    "actors = []\n",
    "for x in df2:\n",
    "    actors.append(x)    \n",
    "#actors2 = {df1.original_title.value_counts().keys(): {'actor':df1.cast.value_counts().keys()}}\n",
    "films =[]\n",
    "for y in original_title_list:\n",
    "    films.append(y)\n",
    "    \n",
    "#for z in actors:\n",
    "#    df1[df1['cast'] == df1['cast'].find(z)\n",
    "\n",
    "actors[1] \n",
    "df1[(df1['cast'] == 'Samuel L. Jackson') & (df1['cast'] == 'Samuel L. Jackson')]\n",
    "actors.isin('Samuel L. Jackso')\n",
    "\n",
    "\n",
    "#emails_dict[domain]=CC\n",
    "#df.cast.apply(uniqactors) \n",
    "\n",
    "#for y in actors:\n",
    "\n",
    "#actors\n",
    "#df = df.explode('cast')\n",
    "#df['cast'][1]\n",
    "#df2 = []\n",
    "#for x in df['cast']:\n",
    "#    df2.append(x)\n"
   ]
  },
  {
   "cell_type": "code",
   "execution_count": null,
   "metadata": {},
   "outputs": [],
   "source": [
    "pd.set_option('display.max_columns', None)\n",
    "df = data.copy()\n",
    "pairs = Counter()\n",
    "for i in range(0,len(df)):\n",
    "    artists = df.cast[i].split('|')\n",
    "    for j in list(combinations(artists,2)):\n",
    "        if j not in pairs:\n",
    "            pairs[j] = 1\n",
    "        else:\n",
    "            pairs[j] += 1\n",
    "aa = pairs.most_common(5)\n",
    "aa\n",
    "       "
   ]
  },
  {
   "cell_type": "markdown",
   "metadata": {
    "colab_type": "text",
    "id": "U0nONFnGVqAX"
   },
   "source": [
    "# Submission"
   ]
  },
  {
   "cell_type": "code",
   "execution_count": null,
   "metadata": {
    "colab": {},
    "colab_type": "code",
    "id": "IfcaRO9-VqAX",
    "outputId": "0f132912-32bb-4196-c98c-abfbc4ad5a5f"
   },
   "outputs": [],
   "source": [
    "# в конце можно посмотреть свои ответы к каждому вопросу\n",
    "answers"
   ]
  },
  {
   "cell_type": "code",
   "execution_count": null,
   "metadata": {
    "colab": {},
    "colab_type": "code",
    "id": "SiRmHPl8VqAd"
   },
   "outputs": [],
   "source": [
    "# и убедиться что ни чего не пропустил)\n",
    "len(answers)"
   ]
  },
  {
   "cell_type": "code",
   "execution_count": null,
   "metadata": {
    "colab": {},
    "colab_type": "code",
    "id": "uCfuTkRbVqAg"
   },
   "outputs": [],
   "source": []
  },
  {
   "cell_type": "code",
   "execution_count": null,
   "metadata": {
    "colab": {},
    "colab_type": "code",
    "id": "Vwx3NrkSVqAl"
   },
   "outputs": [],
   "source": []
  }
 ],
 "metadata": {
  "colab": {
   "name": "Copy of [SF-DST] Movies IMBD v4.1 TEMPLATE.ipynb",
   "provenance": []
  },
  "kernelspec": {
   "display_name": "Python 3",
   "language": "python",
   "name": "python3"
  },
  "language_info": {
   "codemirror_mode": {
    "name": "ipython",
    "version": 3
   },
   "file_extension": ".py",
   "mimetype": "text/x-python",
   "name": "python",
   "nbconvert_exporter": "python",
   "pygments_lexer": "ipython3",
   "version": "3.8.3"
  }
 },
 "nbformat": 4,
 "nbformat_minor": 1
}
