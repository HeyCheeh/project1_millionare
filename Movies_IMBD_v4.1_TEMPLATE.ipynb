{
 "cells": [
  {
   "cell_type": "code",
   "execution_count": 1,
   "metadata": {
    "_cell_guid": "b1076dfc-b9ad-4769-8c92-a6c4dae69d19",
    "_uuid": "8f2839f25d086af736a60e9eeb907d3b93b6e0e5",
    "colab": {},
    "colab_type": "code",
    "id": "U2D2gTdJVp90"
   },
   "outputs": [],
   "source": [
    "import numpy as np\n",
    "import pandas as pd\n",
    "import seaborn as sns\n",
    "import matplotlib.pyplot as plt\n",
    "from collections import Counter\n",
    "from itertools import combinations"
   ]
  },
  {
   "cell_type": "code",
   "execution_count": 2,
   "metadata": {
    "_cell_guid": "79c7e3d0-c299-4dcb-8224-4455121ee9b0",
    "_uuid": "d629ff2d2480ee46fbb7e2d37f6b5fab8052498a",
    "colab": {},
    "colab_type": "code",
    "id": "oyGfxL3eVp9-"
   },
   "outputs": [
    {
     "data": {
      "text/html": [
       "<div>\n",
       "<style scoped>\n",
       "    .dataframe tbody tr th:only-of-type {\n",
       "        vertical-align: middle;\n",
       "    }\n",
       "\n",
       "    .dataframe tbody tr th {\n",
       "        vertical-align: top;\n",
       "    }\n",
       "\n",
       "    .dataframe thead th {\n",
       "        text-align: right;\n",
       "    }\n",
       "</style>\n",
       "<table border=\"1\" class=\"dataframe\">\n",
       "  <thead>\n",
       "    <tr style=\"text-align: right;\">\n",
       "      <th></th>\n",
       "      <th>imdb_id</th>\n",
       "      <th>budget</th>\n",
       "      <th>revenue</th>\n",
       "      <th>original_title</th>\n",
       "      <th>cast</th>\n",
       "      <th>director</th>\n",
       "      <th>tagline</th>\n",
       "      <th>overview</th>\n",
       "      <th>runtime</th>\n",
       "      <th>genres</th>\n",
       "      <th>production_companies</th>\n",
       "      <th>release_date</th>\n",
       "      <th>vote_average</th>\n",
       "      <th>release_year</th>\n",
       "    </tr>\n",
       "  </thead>\n",
       "  <tbody>\n",
       "    <tr>\n",
       "      <th>12</th>\n",
       "      <td>tt0470752</td>\n",
       "      <td>15000000</td>\n",
       "      <td>36869414</td>\n",
       "      <td>Ex Machina</td>\n",
       "      <td>Domhnall Gleeson|Alicia Vikander|Oscar Isaac|S...</td>\n",
       "      <td>Alex Garland</td>\n",
       "      <td>There is nothing more human than the will to s...</td>\n",
       "      <td>Caleb, a 26 year old coder at the world's larg...</td>\n",
       "      <td>108</td>\n",
       "      <td>Drama|Science Fiction</td>\n",
       "      <td>DNA Films|Universal Pictures International (UP...</td>\n",
       "      <td>1/21/2015</td>\n",
       "      <td>7.6</td>\n",
       "      <td>2015</td>\n",
       "    </tr>\n",
       "    <tr>\n",
       "      <th>113</th>\n",
       "      <td>tt3164256</td>\n",
       "      <td>15000000</td>\n",
       "      <td>3020664</td>\n",
       "      <td>Rock the Kasbah</td>\n",
       "      <td>Bill Murray|Zooey Deschanel|Bruce Willis|Kate ...</td>\n",
       "      <td>Barry Levinson</td>\n",
       "      <td>Opportunity rocks where you least expect it.</td>\n",
       "      <td>A washed-up music producer finds one last shot...</td>\n",
       "      <td>100</td>\n",
       "      <td>Comedy|Music|War</td>\n",
       "      <td>Shangri-La Entertainment|QED International|Dun...</td>\n",
       "      <td>10/22/2015</td>\n",
       "      <td>5.1</td>\n",
       "      <td>2015</td>\n",
       "    </tr>\n",
       "    <tr>\n",
       "      <th>1576</th>\n",
       "      <td>tt0289879</td>\n",
       "      <td>13000000</td>\n",
       "      <td>96060858</td>\n",
       "      <td>The Butterfly Effect</td>\n",
       "      <td>Ashton Kutcher|Amy Smart|William Lee Scott|Eld...</td>\n",
       "      <td>Eric Bress|J. Mackye Gruber</td>\n",
       "      <td>Such minor changes, such huge consequences.</td>\n",
       "      <td>A young man struggles to access sublimated chi...</td>\n",
       "      <td>113</td>\n",
       "      <td>Science Fiction|Thriller</td>\n",
       "      <td>New Line Cinema|FilmEngine|Katalyst Films|Bend...</td>\n",
       "      <td>1/22/2004</td>\n",
       "      <td>7.1</td>\n",
       "      <td>2004</td>\n",
       "    </tr>\n",
       "    <tr>\n",
       "      <th>121</th>\n",
       "      <td>tt2911666</td>\n",
       "      <td>20000000</td>\n",
       "      <td>78739897</td>\n",
       "      <td>John Wick</td>\n",
       "      <td>Keanu Reeves|Michael Nyqvist|Alfie Allen|Wille...</td>\n",
       "      <td>Chad Stahelski|David Leitch</td>\n",
       "      <td>Don't set him off.</td>\n",
       "      <td>After the sudden death of his beloved wife, Jo...</td>\n",
       "      <td>101</td>\n",
       "      <td>Action|Thriller</td>\n",
       "      <td>Thunder Road Pictures|Warner Bros.|87Eleven|De...</td>\n",
       "      <td>10/22/2014</td>\n",
       "      <td>7.0</td>\n",
       "      <td>2014</td>\n",
       "    </tr>\n",
       "    <tr>\n",
       "      <th>148</th>\n",
       "      <td>tt1587310</td>\n",
       "      <td>180000000</td>\n",
       "      <td>758410378</td>\n",
       "      <td>Maleficent</td>\n",
       "      <td>Angelina Jolie|Elle Fanning|Juno Temple|Sharlt...</td>\n",
       "      <td>Robert Stromberg</td>\n",
       "      <td>Don't believe the fairy tale.</td>\n",
       "      <td>The untold story of Disney's most iconic villa...</td>\n",
       "      <td>97</td>\n",
       "      <td>Fantasy|Adventure|Action|Family|Romance</td>\n",
       "      <td>Walt Disney Pictures|Roth Films</td>\n",
       "      <td>5/28/2014</td>\n",
       "      <td>7.0</td>\n",
       "      <td>2014</td>\n",
       "    </tr>\n",
       "    <tr>\n",
       "      <th>...</th>\n",
       "      <td>...</td>\n",
       "      <td>...</td>\n",
       "      <td>...</td>\n",
       "      <td>...</td>\n",
       "      <td>...</td>\n",
       "      <td>...</td>\n",
       "      <td>...</td>\n",
       "      <td>...</td>\n",
       "      <td>...</td>\n",
       "      <td>...</td>\n",
       "      <td>...</td>\n",
       "      <td>...</td>\n",
       "      <td>...</td>\n",
       "      <td>...</td>\n",
       "    </tr>\n",
       "    <tr>\n",
       "      <th>788</th>\n",
       "      <td>tt1454029</td>\n",
       "      <td>25000000</td>\n",
       "      <td>124272124</td>\n",
       "      <td>The Help</td>\n",
       "      <td>Emma Stone|Viola Davis|Octavia Spencer|Bryce D...</td>\n",
       "      <td>Tate Taylor</td>\n",
       "      <td>Change begins with a whisper.</td>\n",
       "      <td>Aibileen Clark is a middle-aged African-Americ...</td>\n",
       "      <td>146</td>\n",
       "      <td>Drama</td>\n",
       "      <td>DreamWorks SKG|1492 Pictures|Participant Produ...</td>\n",
       "      <td>8/9/2011</td>\n",
       "      <td>7.6</td>\n",
       "      <td>2011</td>\n",
       "    </tr>\n",
       "    <tr>\n",
       "      <th>1459</th>\n",
       "      <td>tt0384537</td>\n",
       "      <td>50000000</td>\n",
       "      <td>97607453</td>\n",
       "      <td>Silent Hill</td>\n",
       "      <td>Radha Mitchell|Sean Bean|Laurie Holden|Deborah...</td>\n",
       "      <td>Christophe Gans</td>\n",
       "      <td>We've been expecting you.</td>\n",
       "      <td>The eerie and deserted ghost town of Silent Hi...</td>\n",
       "      <td>125</td>\n",
       "      <td>Horror|Mystery</td>\n",
       "      <td>Silent Hill DCP Inc.|Davis-Films|Konami</td>\n",
       "      <td>4/21/2006</td>\n",
       "      <td>6.3</td>\n",
       "      <td>2006</td>\n",
       "    </tr>\n",
       "    <tr>\n",
       "      <th>1234</th>\n",
       "      <td>tt2364841</td>\n",
       "      <td>30000000</td>\n",
       "      <td>62616646</td>\n",
       "      <td>Runner Runner</td>\n",
       "      <td>Ben Affleck|Gemma Arterton|Justin Timberlake|A...</td>\n",
       "      <td>Brad Furman</td>\n",
       "      <td>The house always wins.</td>\n",
       "      <td>When a poor college student who cracks an onli...</td>\n",
       "      <td>91</td>\n",
       "      <td>Crime|Thriller|Drama</td>\n",
       "      <td>20th Century Fox|Double Feature Films|Appian W...</td>\n",
       "      <td>9/24/2013</td>\n",
       "      <td>5.5</td>\n",
       "      <td>2013</td>\n",
       "    </tr>\n",
       "    <tr>\n",
       "      <th>605</th>\n",
       "      <td>tt0830515</td>\n",
       "      <td>200000000</td>\n",
       "      <td>586090727</td>\n",
       "      <td>Quantum of Solace</td>\n",
       "      <td>Daniel Craig|Olga Kurylenko|Mathieu Amalric|Ju...</td>\n",
       "      <td>Marc Forster</td>\n",
       "      <td>For love, for hate, for justice, for revenge.</td>\n",
       "      <td>Quantum of Solace continues the adventures of ...</td>\n",
       "      <td>106</td>\n",
       "      <td>Adventure|Action|Thriller|Crime</td>\n",
       "      <td>Eon Productions</td>\n",
       "      <td>10/30/2008</td>\n",
       "      <td>6.0</td>\n",
       "      <td>2008</td>\n",
       "    </tr>\n",
       "    <tr>\n",
       "      <th>1793</th>\n",
       "      <td>tt0770772</td>\n",
       "      <td>11000000</td>\n",
       "      <td>13196245</td>\n",
       "      <td>I Think I Love My Wife</td>\n",
       "      <td>Chris Rock|Kerry Washington|Gina Torres|Steve ...</td>\n",
       "      <td>Chris Rock</td>\n",
       "      <td>In marriage no one can hear you scream.</td>\n",
       "      <td>Richard Cooper (Rock) is a married man and fat...</td>\n",
       "      <td>90</td>\n",
       "      <td>Comedy|Romance</td>\n",
       "      <td>Fox Searchlight Pictures</td>\n",
       "      <td>3/16/2007</td>\n",
       "      <td>5.3</td>\n",
       "      <td>2007</td>\n",
       "    </tr>\n",
       "  </tbody>\n",
       "</table>\n",
       "<p>200 rows × 14 columns</p>\n",
       "</div>"
      ],
      "text/plain": [
       "        imdb_id     budget    revenue          original_title  \\\n",
       "12    tt0470752   15000000   36869414              Ex Machina   \n",
       "113   tt3164256   15000000    3020664         Rock the Kasbah   \n",
       "1576  tt0289879   13000000   96060858    The Butterfly Effect   \n",
       "121   tt2911666   20000000   78739897               John Wick   \n",
       "148   tt1587310  180000000  758410378              Maleficent   \n",
       "...         ...        ...        ...                     ...   \n",
       "788   tt1454029   25000000  124272124                The Help   \n",
       "1459  tt0384537   50000000   97607453             Silent Hill   \n",
       "1234  tt2364841   30000000   62616646           Runner Runner   \n",
       "605   tt0830515  200000000  586090727       Quantum of Solace   \n",
       "1793  tt0770772   11000000   13196245  I Think I Love My Wife   \n",
       "\n",
       "                                                   cast  \\\n",
       "12    Domhnall Gleeson|Alicia Vikander|Oscar Isaac|S...   \n",
       "113   Bill Murray|Zooey Deschanel|Bruce Willis|Kate ...   \n",
       "1576  Ashton Kutcher|Amy Smart|William Lee Scott|Eld...   \n",
       "121   Keanu Reeves|Michael Nyqvist|Alfie Allen|Wille...   \n",
       "148   Angelina Jolie|Elle Fanning|Juno Temple|Sharlt...   \n",
       "...                                                 ...   \n",
       "788   Emma Stone|Viola Davis|Octavia Spencer|Bryce D...   \n",
       "1459  Radha Mitchell|Sean Bean|Laurie Holden|Deborah...   \n",
       "1234  Ben Affleck|Gemma Arterton|Justin Timberlake|A...   \n",
       "605   Daniel Craig|Olga Kurylenko|Mathieu Amalric|Ju...   \n",
       "1793  Chris Rock|Kerry Washington|Gina Torres|Steve ...   \n",
       "\n",
       "                         director  \\\n",
       "12                   Alex Garland   \n",
       "113                Barry Levinson   \n",
       "1576  Eric Bress|J. Mackye Gruber   \n",
       "121   Chad Stahelski|David Leitch   \n",
       "148              Robert Stromberg   \n",
       "...                           ...   \n",
       "788                   Tate Taylor   \n",
       "1459              Christophe Gans   \n",
       "1234                  Brad Furman   \n",
       "605                  Marc Forster   \n",
       "1793                   Chris Rock   \n",
       "\n",
       "                                                tagline  \\\n",
       "12    There is nothing more human than the will to s...   \n",
       "113        Opportunity rocks where you least expect it.   \n",
       "1576        Such minor changes, such huge consequences.   \n",
       "121                                  Don't set him off.   \n",
       "148                       Don't believe the fairy tale.   \n",
       "...                                                 ...   \n",
       "788                       Change begins with a whisper.   \n",
       "1459                          We've been expecting you.   \n",
       "1234                             The house always wins.   \n",
       "605       For love, for hate, for justice, for revenge.   \n",
       "1793            In marriage no one can hear you scream.   \n",
       "\n",
       "                                               overview  runtime  \\\n",
       "12    Caleb, a 26 year old coder at the world's larg...      108   \n",
       "113   A washed-up music producer finds one last shot...      100   \n",
       "1576  A young man struggles to access sublimated chi...      113   \n",
       "121   After the sudden death of his beloved wife, Jo...      101   \n",
       "148   The untold story of Disney's most iconic villa...       97   \n",
       "...                                                 ...      ...   \n",
       "788   Aibileen Clark is a middle-aged African-Americ...      146   \n",
       "1459  The eerie and deserted ghost town of Silent Hi...      125   \n",
       "1234  When a poor college student who cracks an onli...       91   \n",
       "605   Quantum of Solace continues the adventures of ...      106   \n",
       "1793  Richard Cooper (Rock) is a married man and fat...       90   \n",
       "\n",
       "                                       genres  \\\n",
       "12                      Drama|Science Fiction   \n",
       "113                          Comedy|Music|War   \n",
       "1576                 Science Fiction|Thriller   \n",
       "121                           Action|Thriller   \n",
       "148   Fantasy|Adventure|Action|Family|Romance   \n",
       "...                                       ...   \n",
       "788                                     Drama   \n",
       "1459                           Horror|Mystery   \n",
       "1234                     Crime|Thriller|Drama   \n",
       "605           Adventure|Action|Thriller|Crime   \n",
       "1793                           Comedy|Romance   \n",
       "\n",
       "                                   production_companies release_date  \\\n",
       "12    DNA Films|Universal Pictures International (UP...    1/21/2015   \n",
       "113   Shangri-La Entertainment|QED International|Dun...   10/22/2015   \n",
       "1576  New Line Cinema|FilmEngine|Katalyst Films|Bend...    1/22/2004   \n",
       "121   Thunder Road Pictures|Warner Bros.|87Eleven|De...   10/22/2014   \n",
       "148                     Walt Disney Pictures|Roth Films    5/28/2014   \n",
       "...                                                 ...          ...   \n",
       "788   DreamWorks SKG|1492 Pictures|Participant Produ...     8/9/2011   \n",
       "1459            Silent Hill DCP Inc.|Davis-Films|Konami    4/21/2006   \n",
       "1234  20th Century Fox|Double Feature Films|Appian W...    9/24/2013   \n",
       "605                                     Eon Productions   10/30/2008   \n",
       "1793                           Fox Searchlight Pictures    3/16/2007   \n",
       "\n",
       "      vote_average  release_year  \n",
       "12             7.6          2015  \n",
       "113            5.1          2015  \n",
       "1576           7.1          2004  \n",
       "121            7.0          2014  \n",
       "148            7.0          2014  \n",
       "...            ...           ...  \n",
       "788            7.6          2011  \n",
       "1459           6.3          2006  \n",
       "1234           5.5          2013  \n",
       "605            6.0          2008  \n",
       "1793           5.3          2007  \n",
       "\n",
       "[200 rows x 14 columns]"
      ]
     },
     "execution_count": 2,
     "metadata": {},
     "output_type": "execute_result"
    }
   ],
   "source": [
    "data = pd.read_csv('movie_bd_v5.csv')\n",
    "data.sample(200)"
   ]
  },
  {
   "cell_type": "code",
   "execution_count": 3,
   "metadata": {
    "colab": {},
    "colab_type": "code",
    "id": "CoYUnagMVp-C"
   },
   "outputs": [
    {
     "data": {
      "text/html": [
       "<div>\n",
       "<style scoped>\n",
       "    .dataframe tbody tr th:only-of-type {\n",
       "        vertical-align: middle;\n",
       "    }\n",
       "\n",
       "    .dataframe tbody tr th {\n",
       "        vertical-align: top;\n",
       "    }\n",
       "\n",
       "    .dataframe thead th {\n",
       "        text-align: right;\n",
       "    }\n",
       "</style>\n",
       "<table border=\"1\" class=\"dataframe\">\n",
       "  <thead>\n",
       "    <tr style=\"text-align: right;\">\n",
       "      <th></th>\n",
       "      <th>budget</th>\n",
       "      <th>revenue</th>\n",
       "      <th>runtime</th>\n",
       "      <th>vote_average</th>\n",
       "      <th>release_year</th>\n",
       "    </tr>\n",
       "  </thead>\n",
       "  <tbody>\n",
       "    <tr>\n",
       "      <th>count</th>\n",
       "      <td>1.889000e+03</td>\n",
       "      <td>1.889000e+03</td>\n",
       "      <td>1889.000000</td>\n",
       "      <td>1889.000000</td>\n",
       "      <td>1889.000000</td>\n",
       "    </tr>\n",
       "    <tr>\n",
       "      <th>mean</th>\n",
       "      <td>5.431083e+07</td>\n",
       "      <td>1.553653e+08</td>\n",
       "      <td>109.658549</td>\n",
       "      <td>6.140762</td>\n",
       "      <td>2007.860773</td>\n",
       "    </tr>\n",
       "    <tr>\n",
       "      <th>std</th>\n",
       "      <td>4.858721e+07</td>\n",
       "      <td>2.146698e+08</td>\n",
       "      <td>18.017041</td>\n",
       "      <td>0.764763</td>\n",
       "      <td>4.468841</td>\n",
       "    </tr>\n",
       "    <tr>\n",
       "      <th>min</th>\n",
       "      <td>5.000000e+06</td>\n",
       "      <td>2.033165e+06</td>\n",
       "      <td>63.000000</td>\n",
       "      <td>3.300000</td>\n",
       "      <td>2000.000000</td>\n",
       "    </tr>\n",
       "    <tr>\n",
       "      <th>25%</th>\n",
       "      <td>2.000000e+07</td>\n",
       "      <td>3.456058e+07</td>\n",
       "      <td>97.000000</td>\n",
       "      <td>5.600000</td>\n",
       "      <td>2004.000000</td>\n",
       "    </tr>\n",
       "    <tr>\n",
       "      <th>50%</th>\n",
       "      <td>3.800000e+07</td>\n",
       "      <td>8.361541e+07</td>\n",
       "      <td>107.000000</td>\n",
       "      <td>6.100000</td>\n",
       "      <td>2008.000000</td>\n",
       "    </tr>\n",
       "    <tr>\n",
       "      <th>75%</th>\n",
       "      <td>7.200000e+07</td>\n",
       "      <td>1.782626e+08</td>\n",
       "      <td>120.000000</td>\n",
       "      <td>6.600000</td>\n",
       "      <td>2012.000000</td>\n",
       "    </tr>\n",
       "    <tr>\n",
       "      <th>max</th>\n",
       "      <td>3.800000e+08</td>\n",
       "      <td>2.781506e+09</td>\n",
       "      <td>214.000000</td>\n",
       "      <td>8.100000</td>\n",
       "      <td>2015.000000</td>\n",
       "    </tr>\n",
       "  </tbody>\n",
       "</table>\n",
       "</div>"
      ],
      "text/plain": [
       "             budget       revenue      runtime  vote_average  release_year\n",
       "count  1.889000e+03  1.889000e+03  1889.000000   1889.000000   1889.000000\n",
       "mean   5.431083e+07  1.553653e+08   109.658549      6.140762   2007.860773\n",
       "std    4.858721e+07  2.146698e+08    18.017041      0.764763      4.468841\n",
       "min    5.000000e+06  2.033165e+06    63.000000      3.300000   2000.000000\n",
       "25%    2.000000e+07  3.456058e+07    97.000000      5.600000   2004.000000\n",
       "50%    3.800000e+07  8.361541e+07   107.000000      6.100000   2008.000000\n",
       "75%    7.200000e+07  1.782626e+08   120.000000      6.600000   2012.000000\n",
       "max    3.800000e+08  2.781506e+09   214.000000      8.100000   2015.000000"
      ]
     },
     "execution_count": 3,
     "metadata": {},
     "output_type": "execute_result"
    }
   ],
   "source": [
    "data.describe()"
   ]
  },
  {
   "cell_type": "markdown",
   "metadata": {
    "colab_type": "text",
    "id": "DTIt7ezGVp-G"
   },
   "source": [
    "# Предобработка"
   ]
  },
  {
   "cell_type": "code",
   "execution_count": 4,
   "metadata": {
    "colab": {},
    "colab_type": "code",
    "id": "jNb40DwKVp-H"
   },
   "outputs": [],
   "source": [
    "answers = {} # создадим словарь для ответов\n",
    "data['profit'] = data['revenue'] - data['budget'] # создаем колонку с профитом\n",
    "# функция считает длинну string из датафрэйма\n",
    "def words_num (x): \n",
    "    return len(x)\n",
    "\n",
    "# тут другие ваши предобработки колонок например:\n",
    "\n",
    "#the time given in the dataset is in string format.\n",
    "#So we need to change this in datetime format\n",
    "# ..."
   ]
  },
  {
   "cell_type": "markdown",
   "metadata": {
    "colab_type": "text",
    "id": "YxZaH-nPVp-L"
   },
   "source": [
    "# 1. У какого фильма из списка самый большой бюджет?"
   ]
  },
  {
   "cell_type": "markdown",
   "metadata": {
    "colab_type": "text",
    "id": "Nd-G5gX6Vp-M"
   },
   "source": [
    "Использовать варианты ответов в коде решения запрещено.    \n",
    "Вы думаете и в жизни у вас будут варианты ответов?)"
   ]
  },
  {
   "cell_type": "code",
   "execution_count": 5,
   "metadata": {
    "colab": {},
    "colab_type": "code",
    "id": "uVnXAY5RVp-O"
   },
   "outputs": [],
   "source": [
    "# в словарь вставляем номер вопроса и ваш ответ на него\n",
    "# Пример: \n",
    "answers['1'] = '2. Spider-Man 3 (tt0413300)'\n",
    "# запишите свой вариант ответа\n",
    "answers['1'] = '...'\n",
    "# если ответили верно, можете добавить комментарий со значком \"+\"\n"
   ]
  },
  {
   "cell_type": "code",
   "execution_count": 6,
   "metadata": {
    "scrolled": true
   },
   "outputs": [
    {
     "data": {
      "text/plain": [
       "{'1': ' Pirates of the Caribbean: On Stranger Tides'}"
      ]
     },
     "execution_count": 6,
     "metadata": {},
     "output_type": "execute_result"
    }
   ],
   "source": [
    "x = data[(data.budget == data.budget.max())].original_title\n",
    "x = x.to_string(index=False)\n",
    "answers['1'] = x\n",
    "answers"
   ]
  },
  {
   "cell_type": "markdown",
   "metadata": {
    "colab_type": "text",
    "id": "K7L3nbRXVp-X"
   },
   "source": [
    "ВАРИАНТ 2"
   ]
  },
  {
   "cell_type": "code",
   "execution_count": 7,
   "metadata": {
    "colab": {},
    "colab_type": "code",
    "id": "OGaoQI7rVp-X"
   },
   "outputs": [],
   "source": [
    "# можно добавлять разные варианты решения\n",
    "task = '1.'\n",
    "x = data[(data.budget == data.budget.max())]\n",
    "x1 = x.original_title.to_string(index=False)\n",
    "y = x.imdb_id.to_string(index=False)\n",
    "answers['1'] = '{0}{1} ({2})'.format(task, x1,y)"
   ]
  },
  {
   "cell_type": "markdown",
   "metadata": {
    "colab_type": "text",
    "id": "FNRbbI3vVp-c"
   },
   "source": [
    "# 2. Какой из фильмов самый длительный (в минутах)?"
   ]
  },
  {
   "cell_type": "code",
   "execution_count": 8,
   "metadata": {
    "colab": {},
    "colab_type": "code",
    "id": "vHAoEXNTVp-d"
   },
   "outputs": [],
   "source": [
    "# думаю логику работы с этим словарем вы уже поняли, \n",
    "# по этому не буду больше его дублировать\n",
    "answers['2'] = '...'"
   ]
  },
  {
   "cell_type": "code",
   "execution_count": 9,
   "metadata": {
    "colab": {},
    "colab_type": "code",
    "id": "ot-VX2XrVp-g"
   },
   "outputs": [
    {
     "data": {
      "text/plain": [
       "{'1': '1. Pirates of the Caribbean: On Stranger Tides ( tt1298650)',\n",
       " '2': '2. Gods and Generals( tt0279111)'}"
      ]
     },
     "execution_count": 9,
     "metadata": {},
     "output_type": "execute_result"
    }
   ],
   "source": [
    "task = '2.'\n",
    "x = data[(data.runtime == data.runtime.max())]\n",
    "x2 = x.original_title.to_string(index=False)\n",
    "y = x.imdb_id.to_string(index=False)\n",
    "answers['2'] = '{0}{1}({2})'.format(task, x2, y)\n",
    "answers"
   ]
  },
  {
   "cell_type": "markdown",
   "metadata": {
    "colab_type": "text",
    "id": "bapLlpW8Vp-k"
   },
   "source": [
    "# 3. Какой из фильмов самый короткий (в минутах)?\n",
    "\n",
    "\n",
    "\n"
   ]
  },
  {
   "cell_type": "code",
   "execution_count": 10,
   "metadata": {
    "colab": {},
    "colab_type": "code",
    "id": "YBxaSHuAVp-l"
   },
   "outputs": [
    {
     "data": {
      "text/plain": [
       "{'1': '1. Pirates of the Caribbean: On Stranger Tides ( tt1298650)',\n",
       " '2': '2. Gods and Generals( tt0279111)',\n",
       " '3': '3. Winnie the Pooh( tt1449283)'}"
      ]
     },
     "execution_count": 10,
     "metadata": {},
     "output_type": "execute_result"
    }
   ],
   "source": [
    "task = '3.'\n",
    "x = data[(data.runtime == data.runtime.min())]\n",
    "x3 = x.original_title.to_string(index=False)\n",
    "y = x.imdb_id.to_string(index=False)\n",
    "answers['3'] = '{0}{1}({2})'.format(task, x3, y)\n",
    "answers\n"
   ]
  },
  {
   "cell_type": "markdown",
   "metadata": {
    "colab_type": "text",
    "id": "TfQbxbfNVp-p"
   },
   "source": [
    "# 4. Какова средняя длительность фильмов?\n"
   ]
  },
  {
   "cell_type": "code",
   "execution_count": 11,
   "metadata": {
    "colab": {},
    "colab_type": "code",
    "id": "5K6dKZYVVp-q"
   },
   "outputs": [
    {
     "data": {
      "text/plain": [
       "{'1': '1. Pirates of the Caribbean: On Stranger Tides ( tt1298650)',\n",
       " '2': '2. Gods and Generals( tt0279111)',\n",
       " '3': '3. Winnie the Pooh( tt1449283)',\n",
       " '4': '4. Средняя продолжительность фильмов: 109.6585494970884 минут'}"
      ]
     },
     "execution_count": 11,
     "metadata": {},
     "output_type": "execute_result"
    }
   ],
   "source": [
    "task = '4.'\n",
    "x = data['runtime'].mean()\n",
    "answers['4'] = '{0} Средняя продолжительность фильмов: {1} минут'.format(task, x)\n",
    "answers\n"
   ]
  },
  {
   "cell_type": "markdown",
   "metadata": {
    "colab_type": "text",
    "id": "r5TvbnT_Vp-u"
   },
   "source": [
    "# 5. Каково медианное значение длительности фильмов? "
   ]
  },
  {
   "cell_type": "code",
   "execution_count": 12,
   "metadata": {
    "colab": {},
    "colab_type": "code",
    "id": "iBROplKnVp-v"
   },
   "outputs": [
    {
     "data": {
      "text/plain": [
       "{'1': '1. Pirates of the Caribbean: On Stranger Tides ( tt1298650)',\n",
       " '2': '2. Gods and Generals( tt0279111)',\n",
       " '3': '3. Winnie the Pooh( tt1449283)',\n",
       " '4': '4. Средняя продолжительность фильмов: 109.6585494970884 минут',\n",
       " '5': '5. Медианное значение длительности фильмов: 107.0 минут'}"
      ]
     },
     "execution_count": 12,
     "metadata": {},
     "output_type": "execute_result"
    }
   ],
   "source": [
    "task = '5.'\n",
    "x = data['runtime'].median()\n",
    "answers['5'] = '{0} Медианное значение длительности фильмов: {1} минут'.format(task, x)\n",
    "answers\n"
   ]
  },
  {
   "cell_type": "markdown",
   "metadata": {
    "colab_type": "text",
    "id": "39P-deDSVp-y"
   },
   "source": [
    "# 6. Какой самый прибыльный фильм?\n",
    "#### Внимание! Здесь и далее под «прибылью» или «убытками» понимается разность между сборами и бюджетом фильма. (прибыль = сборы - бюджет) в нашем датасете это будет (profit = revenue - budget) "
   ]
  },
  {
   "cell_type": "code",
   "execution_count": 13,
   "metadata": {
    "colab": {},
    "colab_type": "code",
    "id": "UYZh4T9WVp-y"
   },
   "outputs": [
    {
     "data": {
      "text/plain": [
       "{'1': '1. Pirates of the Caribbean: On Stranger Tides ( tt1298650)',\n",
       " '2': '2. Gods and Generals( tt0279111)',\n",
       " '3': '3. Winnie the Pooh( tt1449283)',\n",
       " '4': '4. Средняя продолжительность фильмов: 109.6585494970884 минут',\n",
       " '5': '5. Медианное значение длительности фильмов: 107.0 минут',\n",
       " '6': '6. Avatar( tt0499549)'}"
      ]
     },
     "execution_count": 13,
     "metadata": {},
     "output_type": "execute_result"
    }
   ],
   "source": [
    "# лучше код получения столбца profit вынести в Предобработку что в начале\n",
    "task = '6.'\n",
    "x = data[(data.profit == data.profit.max())]\n",
    "x6 = x.original_title.to_string(index=False)\n",
    "y = x.imdb_id.to_string(index=False)\n",
    "answers['6'] = '{0}{1}({2})'.format(task, x6, y)\n",
    "answers"
   ]
  },
  {
   "cell_type": "markdown",
   "metadata": {
    "colab_type": "text",
    "id": "M99JmIX4Vp-2"
   },
   "source": [
    "# 7. Какой фильм самый убыточный? "
   ]
  },
  {
   "cell_type": "code",
   "execution_count": 14,
   "metadata": {
    "colab": {},
    "colab_type": "code",
    "id": "w-D2m4XPVp-3"
   },
   "outputs": [
    {
     "data": {
      "text/plain": [
       "{'1': '1. Pirates of the Caribbean: On Stranger Tides ( tt1298650)',\n",
       " '2': '2. Gods and Generals( tt0279111)',\n",
       " '3': '3. Winnie the Pooh( tt1449283)',\n",
       " '4': '4. Средняя продолжительность фильмов: 109.6585494970884 минут',\n",
       " '5': '5. Медианное значение длительности фильмов: 107.0 минут',\n",
       " '6': '6. Avatar( tt0499549)',\n",
       " '7': '7. The Lone Ranger( tt1210819)'}"
      ]
     },
     "execution_count": 14,
     "metadata": {},
     "output_type": "execute_result"
    }
   ],
   "source": [
    "task = '7.'\n",
    "x = data[(data.profit == data.profit.min())]\n",
    "x7 = x.original_title.to_string(index=False)\n",
    "y = x.imdb_id.to_string(index=False)\n",
    "answers['7'] = '{0}{1}({2})'.format(task, x7, y)\n",
    "answers"
   ]
  },
  {
   "cell_type": "markdown",
   "metadata": {
    "colab_type": "text",
    "id": "wEOM5ERVVp-6"
   },
   "source": [
    "# 8. У скольких фильмов из датасета объем сборов оказался выше бюджета?"
   ]
  },
  {
   "cell_type": "code",
   "execution_count": 15,
   "metadata": {
    "colab": {},
    "colab_type": "code",
    "id": "y00_7HD6Vp-7"
   },
   "outputs": [
    {
     "data": {
      "text/plain": [
       "{'1': '1. Pirates of the Caribbean: On Stranger Tides ( tt1298650)',\n",
       " '2': '2. Gods and Generals( tt0279111)',\n",
       " '3': '3. Winnie the Pooh( tt1449283)',\n",
       " '4': '4. Средняя продолжительность фильмов: 109.6585494970884 минут',\n",
       " '5': '5. Медианное значение длительности фильмов: 107.0 минут',\n",
       " '6': '6. Avatar( tt0499549)',\n",
       " '7': '7. The Lone Ranger( tt1210819)',\n",
       " '8': '8. У 1478 фильмов из датасета объем сборов оказался выше бюджета'}"
      ]
     },
     "execution_count": 15,
     "metadata": {},
     "output_type": "execute_result"
    }
   ],
   "source": [
    "task = '8.'\n",
    "x = len(data[(data.profit > 0)])\n",
    "answers['8'] = '{0} У {1} фильмов из датасета объем сборов оказался выше бюджета'.format(task, x)\n",
    "answers"
   ]
  },
  {
   "cell_type": "markdown",
   "metadata": {
    "colab_type": "text",
    "id": "xhpspA9KVp_A"
   },
   "source": [
    "# 9. Какой фильм оказался самым кассовым в 2008 году?"
   ]
  },
  {
   "cell_type": "code",
   "execution_count": 16,
   "metadata": {
    "colab": {},
    "colab_type": "code",
    "id": "MoUyQr9RVp_B"
   },
   "outputs": [
    {
     "data": {
      "text/plain": [
       "{'1': '1. Pirates of the Caribbean: On Stranger Tides ( tt1298650)',\n",
       " '2': '2. Gods and Generals( tt0279111)',\n",
       " '3': '3. Winnie the Pooh( tt1449283)',\n",
       " '4': '4. Средняя продолжительность фильмов: 109.6585494970884 минут',\n",
       " '5': '5. Медианное значение длительности фильмов: 107.0 минут',\n",
       " '6': '6. Avatar( tt0499549)',\n",
       " '7': '7. The Lone Ranger( tt1210819)',\n",
       " '8': '8. У 1478 фильмов из датасета объем сборов оказался выше бюджета',\n",
       " '9': '9. The Dark Knight( tt0468569)'}"
      ]
     },
     "execution_count": 16,
     "metadata": {},
     "output_type": "execute_result"
    }
   ],
   "source": [
    "task = '9.'\n",
    "x = data[(data.release_year == 2008)]\n",
    "x = x[(x.profit == x.profit.max())]\n",
    "x9 = x.original_title.to_string(index=False)\n",
    "y = x.imdb_id.to_string(index=False)\n",
    "answers['9'] = '{0}{1}({2})'.format(task, x9, y)\n",
    "answers"
   ]
  },
  {
   "cell_type": "markdown",
   "metadata": {
    "colab_type": "text",
    "id": "Zi4hDKidVp_F"
   },
   "source": [
    "# 10. Самый убыточный фильм за период с 2012 по 2014 г. (включительно)?\n"
   ]
  },
  {
   "cell_type": "code",
   "execution_count": 17,
   "metadata": {
    "colab": {},
    "colab_type": "code",
    "id": "XqyRmufJVp_F"
   },
   "outputs": [
    {
     "data": {
      "text/plain": [
       "{'1': '1. Pirates of the Caribbean: On Stranger Tides ( tt1298650)',\n",
       " '2': '2. Gods and Generals( tt0279111)',\n",
       " '3': '3. Winnie the Pooh( tt1449283)',\n",
       " '4': '4. Средняя продолжительность фильмов: 109.6585494970884 минут',\n",
       " '5': '5. Медианное значение длительности фильмов: 107.0 минут',\n",
       " '6': '6. Avatar( tt0499549)',\n",
       " '7': '7. The Lone Ranger( tt1210819)',\n",
       " '8': '8. У 1478 фильмов из датасета объем сборов оказался выше бюджета',\n",
       " '9': '9. The Dark Knight( tt0468569)',\n",
       " '10': '10. The Lone Ranger( tt1210819)'}"
      ]
     },
     "execution_count": 17,
     "metadata": {},
     "output_type": "execute_result"
    }
   ],
   "source": [
    "task = '10.'\n",
    "x = data.query('2012 <= release_year <= 2014 ')\n",
    "x = x[(x.profit == x.profit.min())]\n",
    "x10 = x.original_title.to_string(index=False)\n",
    "y = x.imdb_id.to_string(index=False)\n",
    "answers['10'] = '{0}{1}({2})'.format(task, x10, y)\n",
    "answers"
   ]
  },
  {
   "cell_type": "markdown",
   "metadata": {
    "colab_type": "text",
    "id": "EA7Sa9dkVp_I"
   },
   "source": [
    "# 11. Какого жанра фильмов больше всего?"
   ]
  },
  {
   "cell_type": "code",
   "execution_count": 18,
   "metadata": {
    "colab": {},
    "colab_type": "code",
    "id": "zsJAwJ8QVp_J"
   },
   "outputs": [],
   "source": [
    "# эту задачу тоже можно решать разными подходами, попробуй реализовать разные варианты\n",
    "# если будешь добавлять функцию - выноси ее в предобработку что в начале\n",
    "\n"
   ]
  },
  {
   "cell_type": "markdown",
   "metadata": {
    "colab_type": "text",
    "id": "Ax6g2C8SVp_M"
   },
   "source": [
    "ВАРИАНТ 2"
   ]
  },
  {
   "cell_type": "code",
   "execution_count": 19,
   "metadata": {
    "colab": {},
    "colab_type": "code",
    "id": "otO3SbrSVp_N"
   },
   "outputs": [
    {
     "data": {
      "text/plain": [
       "{'1': '1. Pirates of the Caribbean: On Stranger Tides ( tt1298650)',\n",
       " '2': '2. Gods and Generals( tt0279111)',\n",
       " '3': '3. Winnie the Pooh( tt1449283)',\n",
       " '4': '4. Средняя продолжительность фильмов: 109.6585494970884 минут',\n",
       " '5': '5. Медианное значение длительности фильмов: 107.0 минут',\n",
       " '6': '6. Avatar( tt0499549)',\n",
       " '7': '7. The Lone Ranger( tt1210819)',\n",
       " '8': '8. У 1478 фильмов из датасета объем сборов оказался выше бюджета',\n",
       " '9': '9. The Dark Knight( tt0468569)',\n",
       " '10': '10. The Lone Ranger( tt1210819)',\n",
       " '11': '11. Жанр Drama    782'}"
      ]
     },
     "execution_count": 19,
     "metadata": {},
     "output_type": "execute_result"
    }
   ],
   "source": [
    "task = '11.'\n",
    "x11 = data.genres.str.split('|').explode().value_counts().head(1)\n",
    "x11 = x11.to_string()\n",
    "answers['11'] = '{0} Жанр {1}'.format(task, x11)\n",
    "answers"
   ]
  },
  {
   "cell_type": "markdown",
   "metadata": {
    "colab_type": "text",
    "id": "T9_bPWpkVp_Q"
   },
   "source": [
    "# 12. Фильмы какого жанра чаще всего становятся прибыльными? "
   ]
  },
  {
   "cell_type": "code",
   "execution_count": 20,
   "metadata": {
    "colab": {},
    "colab_type": "code",
    "id": "Tmt8MaK1Vp_R"
   },
   "outputs": [
    {
     "data": {
      "text/plain": [
       "{'1': '1. Pirates of the Caribbean: On Stranger Tides ( tt1298650)',\n",
       " '2': '2. Gods and Generals( tt0279111)',\n",
       " '3': '3. Winnie the Pooh( tt1449283)',\n",
       " '4': '4. Средняя продолжительность фильмов: 109.6585494970884 минут',\n",
       " '5': '5. Медианное значение длительности фильмов: 107.0 минут',\n",
       " '6': '6. Avatar( tt0499549)',\n",
       " '7': '7. The Lone Ranger( tt1210819)',\n",
       " '8': '8. У 1478 фильмов из датасета объем сборов оказался выше бюджета',\n",
       " '9': '9. The Dark Knight( tt0468569)',\n",
       " '10': '10. The Lone Ranger( tt1210819)',\n",
       " '11': '11. Жанр Drama    782',\n",
       " '12': '12. Жанр Drama    560'}"
      ]
     },
     "execution_count": 20,
     "metadata": {},
     "output_type": "execute_result"
    }
   ],
   "source": [
    "task = '12.'\n",
    "df = data[data.profit > 0][['genres']]\n",
    "df.genres = df.genres.str.split('|')\n",
    "df = df.explode('genres')\n",
    "df = df.genres.value_counts().head(1)\n",
    "answers['12'] = '{0} Жанр {1}'.format(task, df.to_string())\n",
    "answers"
   ]
  },
  {
   "cell_type": "markdown",
   "metadata": {
    "colab_type": "text",
    "id": "0F23bgsDVp_U"
   },
   "source": [
    "# 13. У какого режиссера самые большие суммарные кассовые сборы?"
   ]
  },
  {
   "cell_type": "code",
   "execution_count": 21,
   "metadata": {
    "colab": {},
    "colab_type": "code",
    "id": "K6Z3J8ygVp_X"
   },
   "outputs": [
    {
     "data": {
      "text/plain": [
       "{'1': '1. Pirates of the Caribbean: On Stranger Tides ( tt1298650)',\n",
       " '2': '2. Gods and Generals( tt0279111)',\n",
       " '3': '3. Winnie the Pooh( tt1449283)',\n",
       " '4': '4. Средняя продолжительность фильмов: 109.6585494970884 минут',\n",
       " '5': '5. Медианное значение длительности фильмов: 107.0 минут',\n",
       " '6': '6. Avatar( tt0499549)',\n",
       " '7': '7. The Lone Ranger( tt1210819)',\n",
       " '8': '8. У 1478 фильмов из датасета объем сборов оказался выше бюджета',\n",
       " '9': '9. The Dark Knight( tt0468569)',\n",
       " '10': '10. The Lone Ranger( tt1210819)',\n",
       " '11': '11. Жанр Drama    782',\n",
       " '12': '12. Жанр Drama    560',\n",
       " '13': '13. Peter Jackson'}"
      ]
     },
     "execution_count": 21,
     "metadata": {},
     "output_type": "execute_result"
    }
   ],
   "source": [
    "task = '13.'\n",
    "df = data.groupby(['director']).sum()\n",
    "#df = df.explode('director')\n",
    "df = df.sort_values(by = 'revenue', ascending = False)\n",
    "df = df.head(1).index.tolist()\n",
    "df = ''.join(map(str, df))\n",
    "answers['13'] = '{0} {1}'.format(task, df)\n",
    "answers\n"
   ]
  },
  {
   "cell_type": "markdown",
   "metadata": {
    "colab_type": "text",
    "id": "PsYC9FgRVp_a"
   },
   "source": [
    "# 14. Какой режисер снял больше всего фильмов в стиле Action?"
   ]
  },
  {
   "cell_type": "code",
   "execution_count": 22,
   "metadata": {
    "colab": {},
    "colab_type": "code",
    "id": "wd2M-wHeVp_b"
   },
   "outputs": [
    {
     "name": "stderr",
     "output_type": "stream",
     "text": [
      "C:\\Users\\Dirty_S\\anaconda3\\lib\\site-packages\\pandas\\core\\generic.py:5303: SettingWithCopyWarning: \n",
      "A value is trying to be set on a copy of a slice from a DataFrame.\n",
      "Try using .loc[row_indexer,col_indexer] = value instead\n",
      "\n",
      "See the caveats in the documentation: https://pandas.pydata.org/pandas-docs/stable/user_guide/indexing.html#returning-a-view-versus-a-copy\n",
      "  self[name] = value\n"
     ]
    },
    {
     "data": {
      "text/plain": [
       "{'1': '1. Pirates of the Caribbean: On Stranger Tides ( tt1298650)',\n",
       " '2': '2. Gods and Generals( tt0279111)',\n",
       " '3': '3. Winnie the Pooh( tt1449283)',\n",
       " '4': '4. Средняя продолжительность фильмов: 109.6585494970884 минут',\n",
       " '5': '5. Медианное значение длительности фильмов: 107.0 минут',\n",
       " '6': '6. Avatar( tt0499549)',\n",
       " '7': '7. The Lone Ranger( tt1210819)',\n",
       " '8': '8. У 1478 фильмов из датасета объем сборов оказался выше бюджета',\n",
       " '9': '9. The Dark Knight( tt0468569)',\n",
       " '10': '10. The Lone Ranger( tt1210819)',\n",
       " '11': '11. Жанр Drama    782',\n",
       " '12': '12. Жанр Drama    560',\n",
       " '13': '13. Peter Jackson',\n",
       " '14': '14. Robert Rodriguez'}"
      ]
     },
     "execution_count": 22,
     "metadata": {},
     "output_type": "execute_result"
    }
   ],
   "source": [
    "task = '14.'\n",
    "df = data[data.genres.str.contains('Action') == True]\n",
    "df.director = df.director.str.split('|')\n",
    "df = df.explode('director')\n",
    "a = df.director.value_counts().head(1).index.tolist()\n",
    "a = ''.join(map(str, a))\n",
    "answers['14'] = '{0} {1}'.format(task, a)\n",
    "answers"
   ]
  },
  {
   "cell_type": "markdown",
   "metadata": {
    "colab_type": "text",
    "id": "PQ0KciD7Vp_f"
   },
   "source": [
    "# 15. Фильмы с каким актером принесли самые высокие кассовые сборы в 2012 году? "
   ]
  },
  {
   "cell_type": "code",
   "execution_count": 23,
   "metadata": {
    "colab": {},
    "colab_type": "code",
    "id": "aga62oeKVp_g"
   },
   "outputs": [
    {
     "data": {
      "text/plain": [
       "{'1': '1. Pirates of the Caribbean: On Stranger Tides ( tt1298650)',\n",
       " '2': '2. Gods and Generals( tt0279111)',\n",
       " '3': '3. Winnie the Pooh( tt1449283)',\n",
       " '4': '4. Средняя продолжительность фильмов: 109.6585494970884 минут',\n",
       " '5': '5. Медианное значение длительности фильмов: 107.0 минут',\n",
       " '6': '6. Avatar( tt0499549)',\n",
       " '7': '7. The Lone Ranger( tt1210819)',\n",
       " '8': '8. У 1478 фильмов из датасета объем сборов оказался выше бюджета',\n",
       " '9': '9. The Dark Knight( tt0468569)',\n",
       " '10': '10. The Lone Ranger( tt1210819)',\n",
       " '11': '11. Жанр Drama    782',\n",
       " '12': '12. Жанр Drama    560',\n",
       " '13': '13. Peter Jackson',\n",
       " '14': '14. Robert Rodriguez',\n",
       " '15': '15. Chris Hemsworth'}"
      ]
     },
     "execution_count": 23,
     "metadata": {},
     "output_type": "execute_result"
    }
   ],
   "source": [
    "task = '15.'\n",
    "df = data[data['release_year'] == 2012].copy()\n",
    "df['actors'] = df.cast.str.split('|')\n",
    "df = df.explode('actors')\n",
    "df = df.groupby(['actors'])['revenue'].sum().sort_values(ascending = False)\n",
    "#print(df.pivot_table(columns = 'actors', index = 'original_title', values = 'revenue', aggfunc = 'sum'))\n",
    "#df = df.keys()\n",
    "#df = df['actors']\n",
    "df = df.head(1).index.tolist()\n",
    "df = ''.join(map(str, df))\n",
    "answers['15'] = '{0} {1}'.format(task, df)\n",
    "answers"
   ]
  },
  {
   "cell_type": "markdown",
   "metadata": {
    "colab_type": "text",
    "id": "mWHyyL7QVp_j"
   },
   "source": [
    "# 16. Какой актер снялся в большем количестве высокобюджетных фильмов?"
   ]
  },
  {
   "cell_type": "code",
   "execution_count": 24,
   "metadata": {
    "colab": {},
    "colab_type": "code",
    "id": "qQtmHKTFVp_k"
   },
   "outputs": [
    {
     "data": {
      "text/plain": [
       "{'1': '1. Pirates of the Caribbean: On Stranger Tides ( tt1298650)',\n",
       " '2': '2. Gods and Generals( tt0279111)',\n",
       " '3': '3. Winnie the Pooh( tt1449283)',\n",
       " '4': '4. Средняя продолжительность фильмов: 109.6585494970884 минут',\n",
       " '5': '5. Медианное значение длительности фильмов: 107.0 минут',\n",
       " '6': '6. Avatar( tt0499549)',\n",
       " '7': '7. The Lone Ranger( tt1210819)',\n",
       " '8': '8. У 1478 фильмов из датасета объем сборов оказался выше бюджета',\n",
       " '9': '9. The Dark Knight( tt0468569)',\n",
       " '10': '10. The Lone Ranger( tt1210819)',\n",
       " '11': '11. Жанр Drama    782',\n",
       " '12': '12. Жанр Drama    560',\n",
       " '13': '13. Peter Jackson',\n",
       " '14': '14. Robert Rodriguez',\n",
       " '15': '15. Chris Hemsworth',\n",
       " '16': '16. Matt Damon'}"
      ]
     },
     "execution_count": 24,
     "metadata": {},
     "output_type": "execute_result"
    }
   ],
   "source": [
    "task = '16.'\n",
    "df = data.copy()\n",
    "df.cast = df.cast.str.split('|')\n",
    "df = df.explode('cast')\n",
    "high_bfilm = df[df.budget > df.budget.mean()]\n",
    "hbf_actor = high_bfilm['cast'].value_counts()\n",
    "hbf_actor = hbf_actor.head(1).index.tolist()\n",
    "hbf_actor = ''.join(map(str, hbf_actor))\n",
    "answers['16'] = '{0} {1}'.format(task, hbf_actor)\n",
    "answers"
   ]
  },
  {
   "cell_type": "markdown",
   "metadata": {
    "colab_type": "text",
    "id": "NIh6AaW5Vp_n"
   },
   "source": [
    "# 17. В фильмах какого жанра больше всего снимался Nicolas Cage? "
   ]
  },
  {
   "cell_type": "code",
   "execution_count": 25,
   "metadata": {
    "colab": {},
    "colab_type": "code",
    "id": "H74SJDIBVp_n"
   },
   "outputs": [
    {
     "data": {
      "text/plain": [
       "{'1': '1. Pirates of the Caribbean: On Stranger Tides ( tt1298650)',\n",
       " '2': '2. Gods and Generals( tt0279111)',\n",
       " '3': '3. Winnie the Pooh( tt1449283)',\n",
       " '4': '4. Средняя продолжительность фильмов: 109.6585494970884 минут',\n",
       " '5': '5. Медианное значение длительности фильмов: 107.0 минут',\n",
       " '6': '6. Avatar( tt0499549)',\n",
       " '7': '7. The Lone Ranger( tt1210819)',\n",
       " '8': '8. У 1478 фильмов из датасета объем сборов оказался выше бюджета',\n",
       " '9': '9. The Dark Knight( tt0468569)',\n",
       " '10': '10. The Lone Ranger( tt1210819)',\n",
       " '11': '11. Жанр Drama    782',\n",
       " '12': '12. Жанр Drama    560',\n",
       " '13': '13. Peter Jackson',\n",
       " '14': '14. Robert Rodriguez',\n",
       " '15': '15. Chris Hemsworth',\n",
       " '16': '16. Matt Damon',\n",
       " '17': '17. Action'}"
      ]
     },
     "execution_count": 25,
     "metadata": {},
     "output_type": "execute_result"
    }
   ],
   "source": [
    "task = '17.'\n",
    "df = data.copy()\n",
    "df.genres = df.genres.str.split('|')\n",
    "df = df.explode('genres') \n",
    "df.cast = df.cast.str.split('|')\n",
    "df = df.explode('cast') \n",
    "pivot = df.pivot_table(columns = 'genres', index = 'cast', values = 'original_title', aggfunc = 'count').loc['Nicolas Cage']\n",
    "pivot = pivot.sort_values(ascending = False)\n",
    "pivot = pivot.head(1).index.tolist()\n",
    "pivot = ''.join(map(str, pivot))\n",
    "answers['17'] = '{0} {1}'.format(task, pivot)\n",
    "answers"
   ]
  },
  {
   "cell_type": "markdown",
   "metadata": {
    "colab_type": "text",
    "id": "RqOmPRfWVp_q"
   },
   "source": [
    "# 18. Самый убыточный фильм от Paramount Pictures"
   ]
  },
  {
   "cell_type": "code",
   "execution_count": null,
   "metadata": {},
   "outputs": [],
   "source": []
  },
  {
   "cell_type": "code",
   "execution_count": 26,
   "metadata": {
    "colab": {},
    "colab_type": "code",
    "id": "9E_B0Y96Vp_r"
   },
   "outputs": [
    {
     "data": {
      "text/plain": [
       "{'1': '1. Pirates of the Caribbean: On Stranger Tides ( tt1298650)',\n",
       " '2': '2. Gods and Generals( tt0279111)',\n",
       " '3': '3. Winnie the Pooh( tt1449283)',\n",
       " '4': '4. Средняя продолжительность фильмов: 109.6585494970884 минут',\n",
       " '5': '5. Медианное значение длительности фильмов: 107.0 минут',\n",
       " '6': '6. Avatar( tt0499549)',\n",
       " '7': '7. The Lone Ranger( tt1210819)',\n",
       " '8': '8. У 1478 фильмов из датасета объем сборов оказался выше бюджета',\n",
       " '9': '9. The Dark Knight( tt0468569)',\n",
       " '10': '10. The Lone Ranger( tt1210819)',\n",
       " '11': '11. Жанр Drama    782',\n",
       " '12': '12. Жанр Drama    560',\n",
       " '13': '13. Peter Jackson',\n",
       " '14': '14. Robert Rodriguez',\n",
       " '15': '15. Chris Hemsworth',\n",
       " '16': '16. Matt Damon',\n",
       " '17': '17. Action',\n",
       " '18': '18. K-19: The Widowmaker'}"
      ]
     },
     "execution_count": 26,
     "metadata": {},
     "output_type": "execute_result"
    }
   ],
   "source": [
    "task = '18.'\n",
    "df = data.copy()\n",
    "df.production_companies = df.production_companies.str.split('|')\n",
    "df = df.explode('production_companies') \n",
    "\n",
    "df = df[df['production_companies'] == 'Paramount Pictures' ]\n",
    "df = df[df['profit'] == df['profit'].min()]\n",
    "a = df['original_title']\n",
    "a = ''.join(map(str, a))\n",
    "answers['18'] = '{0} {1}'.format(task, a)\n",
    "answers"
   ]
  },
  {
   "cell_type": "markdown",
   "metadata": {
    "colab_type": "text",
    "id": "vS8Ur6ddVp_u"
   },
   "source": [
    "# 19. Какой год стал самым успешным по суммарным кассовым сборам?"
   ]
  },
  {
   "cell_type": "code",
   "execution_count": 27,
   "metadata": {
    "colab": {},
    "colab_type": "code",
    "id": "Dnbt4GdIVp_v"
   },
   "outputs": [
    {
     "data": {
      "text/plain": [
       "{'1': '1. Pirates of the Caribbean: On Stranger Tides ( tt1298650)',\n",
       " '2': '2. Gods and Generals( tt0279111)',\n",
       " '3': '3. Winnie the Pooh( tt1449283)',\n",
       " '4': '4. Средняя продолжительность фильмов: 109.6585494970884 минут',\n",
       " '5': '5. Медианное значение длительности фильмов: 107.0 минут',\n",
       " '6': '6. Avatar( tt0499549)',\n",
       " '7': '7. The Lone Ranger( tt1210819)',\n",
       " '8': '8. У 1478 фильмов из датасета объем сборов оказался выше бюджета',\n",
       " '9': '9. The Dark Knight( tt0468569)',\n",
       " '10': '10. The Lone Ranger( tt1210819)',\n",
       " '11': '11. Жанр Drama    782',\n",
       " '12': '12. Жанр Drama    560',\n",
       " '13': '13. Peter Jackson',\n",
       " '14': '14. Robert Rodriguez',\n",
       " '15': '15. Chris Hemsworth',\n",
       " '16': '16. Matt Damon',\n",
       " '17': '17. Action',\n",
       " '18': '18. K-19: The Widowmaker',\n",
       " '19': '19. 2015'}"
      ]
     },
     "execution_count": 27,
     "metadata": {},
     "output_type": "execute_result"
    }
   ],
   "source": [
    "task = '19.'\n",
    "df = data.copy()\n",
    "df = df.groupby(['release_year'])['revenue'].sum().sort_values(ascending = False)\n",
    "df = df.head(1).index.tolist()\n",
    "df = ''.join(map(str, df))\n",
    "answers['19'] = '{0} {1}'.format(task, df)\n",
    "answers"
   ]
  },
  {
   "cell_type": "markdown",
   "metadata": {
    "colab_type": "text",
    "id": "JAzJh4QAVp_z"
   },
   "source": [
    "# 20. Какой самый прибыльный год для студии Warner Bros?"
   ]
  },
  {
   "cell_type": "code",
   "execution_count": 28,
   "metadata": {
    "colab": {},
    "colab_type": "code",
    "id": "wgVu02DEVp_0"
   },
   "outputs": [
    {
     "data": {
      "text/plain": [
       "{'1': '1. Pirates of the Caribbean: On Stranger Tides ( tt1298650)',\n",
       " '2': '2. Gods and Generals( tt0279111)',\n",
       " '3': '3. Winnie the Pooh( tt1449283)',\n",
       " '4': '4. Средняя продолжительность фильмов: 109.6585494970884 минут',\n",
       " '5': '5. Медианное значение длительности фильмов: 107.0 минут',\n",
       " '6': '6. Avatar( tt0499549)',\n",
       " '7': '7. The Lone Ranger( tt1210819)',\n",
       " '8': '8. У 1478 фильмов из датасета объем сборов оказался выше бюджета',\n",
       " '9': '9. The Dark Knight( tt0468569)',\n",
       " '10': '10. The Lone Ranger( tt1210819)',\n",
       " '11': '11. Жанр Drama    782',\n",
       " '12': '12. Жанр Drama    560',\n",
       " '13': '13. Peter Jackson',\n",
       " '14': '14. Robert Rodriguez',\n",
       " '15': '15. Chris Hemsworth',\n",
       " '16': '16. Matt Damon',\n",
       " '17': '17. Action',\n",
       " '18': '18. K-19: The Widowmaker',\n",
       " '19': '19. 2015',\n",
       " '20': '20. 2014'}"
      ]
     },
     "execution_count": 28,
     "metadata": {},
     "output_type": "execute_result"
    }
   ],
   "source": [
    "task = '20.'\n",
    "df = data.copy()\n",
    "df.production_companies = df.production_companies.str.split('|')\n",
    "df = df.explode('production_companies') \n",
    "df = df[df['production_companies'].str.contains('Warner',regex=False, case = False)]\n",
    "df = df.groupby(['release_year']).sum()\n",
    "df = df[df['profit'] == df['profit'].max()]\n",
    "df = df.head(1).index.tolist()\n",
    "df = ''.join(map(str, df))\n",
    "answers['20'] = '{0} {1}'.format(task, df)\n",
    "answers"
   ]
  },
  {
   "cell_type": "markdown",
   "metadata": {
    "colab_type": "text",
    "id": "8Im1S2HRVp_4"
   },
   "source": [
    "# 21. В каком месяце за все годы суммарно вышло больше всего фильмов?"
   ]
  },
  {
   "cell_type": "code",
   "execution_count": 29,
   "metadata": {
    "colab": {},
    "colab_type": "code",
    "id": "lev6TH7gVp_4"
   },
   "outputs": [
    {
     "data": {
      "text/plain": [
       "{'1': '1. Pirates of the Caribbean: On Stranger Tides ( tt1298650)',\n",
       " '2': '2. Gods and Generals( tt0279111)',\n",
       " '3': '3. Winnie the Pooh( tt1449283)',\n",
       " '4': '4. Средняя продолжительность фильмов: 109.6585494970884 минут',\n",
       " '5': '5. Медианное значение длительности фильмов: 107.0 минут',\n",
       " '6': '6. Avatar( tt0499549)',\n",
       " '7': '7. The Lone Ranger( tt1210819)',\n",
       " '8': '8. У 1478 фильмов из датасета объем сборов оказался выше бюджета',\n",
       " '9': '9. The Dark Knight( tt0468569)',\n",
       " '10': '10. The Lone Ranger( tt1210819)',\n",
       " '11': '11. Жанр Drama    782',\n",
       " '12': '12. Жанр Drama    560',\n",
       " '13': '13. Peter Jackson',\n",
       " '14': '14. Robert Rodriguez',\n",
       " '15': '15. Chris Hemsworth',\n",
       " '16': '16. Matt Damon',\n",
       " '17': '17. Action',\n",
       " '18': '18. K-19: The Widowmaker',\n",
       " '19': '19. 2015',\n",
       " '20': '20. 2014',\n",
       " '21': '21. 9'}"
      ]
     },
     "execution_count": 29,
     "metadata": {},
     "output_type": "execute_result"
    }
   ],
   "source": [
    "task = '21.'\n",
    "df = data.copy()\n",
    "df.release_date = df.release_date.str.split('/',expand=True)\n",
    "df = df.explode('release_date').release_date.value_counts(sort= True)\n",
    "df = df.head(1).index.tolist()\n",
    "df = ''.join(map(str, df))\n",
    "answers['21'] = '{0} {1}'.format(task, df)\n",
    "answers"
   ]
  },
  {
   "cell_type": "markdown",
   "metadata": {
    "colab_type": "text",
    "id": "uAJsZ_NeVp_7"
   },
   "source": [
    "# 22. Сколько суммарно вышло фильмов летом? (за июнь, июль, август)"
   ]
  },
  {
   "cell_type": "code",
   "execution_count": 30,
   "metadata": {
    "colab": {},
    "colab_type": "code",
    "id": "Aa-hEREoVp_8"
   },
   "outputs": [
    {
     "data": {
      "text/plain": [
       "{'1': '1. Pirates of the Caribbean: On Stranger Tides ( tt1298650)',\n",
       " '2': '2. Gods and Generals( tt0279111)',\n",
       " '3': '3. Winnie the Pooh( tt1449283)',\n",
       " '4': '4. Средняя продолжительность фильмов: 109.6585494970884 минут',\n",
       " '5': '5. Медианное значение длительности фильмов: 107.0 минут',\n",
       " '6': '6. Avatar( tt0499549)',\n",
       " '7': '7. The Lone Ranger( tt1210819)',\n",
       " '8': '8. У 1478 фильмов из датасета объем сборов оказался выше бюджета',\n",
       " '9': '9. The Dark Knight( tt0468569)',\n",
       " '10': '10. The Lone Ranger( tt1210819)',\n",
       " '11': '11. Жанр Drama    782',\n",
       " '12': '12. Жанр Drama    560',\n",
       " '13': '13. Peter Jackson',\n",
       " '14': '14. Robert Rodriguez',\n",
       " '15': '15. Chris Hemsworth',\n",
       " '16': '16. Matt Damon',\n",
       " '17': '17. Action',\n",
       " '18': '18. K-19: The Widowmaker',\n",
       " '19': '19. 2015',\n",
       " '20': '20. 2014',\n",
       " '21': '21. 9',\n",
       " '22': '22. 450'}"
      ]
     },
     "execution_count": 30,
     "metadata": {},
     "output_type": "execute_result"
    }
   ],
   "source": [
    "task = '22.'\n",
    "df = data.copy()\n",
    "df[['month','day','year']] = df.release_date.str.split('/', expand=True)\n",
    "df = df.month.value_counts(sort= False)\n",
    "#df = df.head(3).sum()\n",
    "df = df['6']+df['7']+df['8']\n",
    "answers['22'] = '{0} {1}'.format(task, df)\n",
    "answers"
   ]
  },
  {
   "cell_type": "markdown",
   "metadata": {
    "colab_type": "text",
    "id": "G94ppOY1VqAA"
   },
   "source": [
    "# 23. Для какого режиссера зима – самое продуктивное время года? "
   ]
  },
  {
   "cell_type": "code",
   "execution_count": 31,
   "metadata": {
    "colab": {},
    "colab_type": "code",
    "id": "RhNTsamuVqAB"
   },
   "outputs": [
    {
     "data": {
      "text/plain": [
       "{'1': '1. Pirates of the Caribbean: On Stranger Tides ( tt1298650)',\n",
       " '2': '2. Gods and Generals( tt0279111)',\n",
       " '3': '3. Winnie the Pooh( tt1449283)',\n",
       " '4': '4. Средняя продолжительность фильмов: 109.6585494970884 минут',\n",
       " '5': '5. Медианное значение длительности фильмов: 107.0 минут',\n",
       " '6': '6. Avatar( tt0499549)',\n",
       " '7': '7. The Lone Ranger( tt1210819)',\n",
       " '8': '8. У 1478 фильмов из датасета объем сборов оказался выше бюджета',\n",
       " '9': '9. The Dark Knight( tt0468569)',\n",
       " '10': '10. The Lone Ranger( tt1210819)',\n",
       " '11': '11. Жанр Drama    782',\n",
       " '12': '12. Жанр Drama    560',\n",
       " '13': '13. Peter Jackson',\n",
       " '14': '14. Robert Rodriguez',\n",
       " '15': '15. Chris Hemsworth',\n",
       " '16': '16. Matt Damon',\n",
       " '17': '17. Action',\n",
       " '18': '18. K-19: The Widowmaker',\n",
       " '19': '19. 2015',\n",
       " '20': '20. 2014',\n",
       " '21': '21. 9',\n",
       " '22': '22. 450',\n",
       " '23': '23. Peter Jackson'}"
      ]
     },
     "execution_count": 31,
     "metadata": {},
     "output_type": "execute_result"
    }
   ],
   "source": [
    "task = '23.'\n",
    "df = data.copy()\n",
    "df[['month','day','year']] = df.release_date.str.split('/', expand=True)\n",
    "df.director = df.director.str.split('|')\n",
    "df = df.explode('director')\n",
    "df = df.query('month in [\"1\",\"2\",\"12\"]')\n",
    "df = df.director.value_counts(sort= True)\n",
    "df = df.head(1).index.tolist()\n",
    "df = ''.join(map(str, df))\n",
    "answers['23'] = '{0} {1}'.format(task, df)\n",
    "answers "
   ]
  },
  {
   "cell_type": "markdown",
   "metadata": {
    "colab_type": "text",
    "id": "RBo0JVjVVqAF"
   },
   "source": [
    "# 24. Какая студия дает самые длинные названия своим фильмам по количеству символов?"
   ]
  },
  {
   "cell_type": "code",
   "execution_count": 32,
   "metadata": {
    "colab": {},
    "colab_type": "code",
    "id": "QRGS8L0iVqAG"
   },
   "outputs": [
    {
     "data": {
      "text/plain": [
       "{'1': '1. Pirates of the Caribbean: On Stranger Tides ( tt1298650)',\n",
       " '2': '2. Gods and Generals( tt0279111)',\n",
       " '3': '3. Winnie the Pooh( tt1449283)',\n",
       " '4': '4. Средняя продолжительность фильмов: 109.6585494970884 минут',\n",
       " '5': '5. Медианное значение длительности фильмов: 107.0 минут',\n",
       " '6': '6. Avatar( tt0499549)',\n",
       " '7': '7. The Lone Ranger( tt1210819)',\n",
       " '8': '8. У 1478 фильмов из датасета объем сборов оказался выше бюджета',\n",
       " '9': '9. The Dark Knight( tt0468569)',\n",
       " '10': '10. The Lone Ranger( tt1210819)',\n",
       " '11': '11. Жанр Drama    782',\n",
       " '12': '12. Жанр Drama    560',\n",
       " '13': '13. Peter Jackson',\n",
       " '14': '14. Robert Rodriguez',\n",
       " '15': '15. Chris Hemsworth',\n",
       " '16': '16. Matt Damon',\n",
       " '17': '17. Action',\n",
       " '18': '18. K-19: The Widowmaker',\n",
       " '19': '19. 2015',\n",
       " '20': '20. 2014',\n",
       " '21': '21. 9',\n",
       " '22': '22. 450',\n",
       " '23': '23. Peter Jackson',\n",
       " '24': '24. Four By Two Productions'}"
      ]
     },
     "execution_count": 32,
     "metadata": {},
     "output_type": "execute_result"
    }
   ],
   "source": [
    "task = '24.'\n",
    "df = data.copy()\n",
    "df.production_companies = df.production_companies.str.split('|')\n",
    "df = df.explode('production_companies')\n",
    "df['original_title_len'] = df['original_title'].apply(lambda x: len(x))\n",
    "df = df.groupby(['production_companies'])['original_title_len'].mean().sort_values(ascending = False)\n",
    "df = df.head(1).index.tolist()\n",
    "df = ''.join(map(str, df))\n",
    "answers['24'] = '{0} {1}'.format(task, df)\n",
    "answers "
   ]
  },
  {
   "cell_type": "markdown",
   "metadata": {
    "colab_type": "text",
    "id": "9G0hbvR7VqAK"
   },
   "source": [
    "# 25. Описание фильмов какой студии в среднем самые длинные по количеству слов?"
   ]
  },
  {
   "cell_type": "code",
   "execution_count": 33,
   "metadata": {
    "colab": {},
    "colab_type": "code",
    "id": "Ge2GsLNxVqAK"
   },
   "outputs": [
    {
     "data": {
      "text/plain": [
       "{'1': '1. Pirates of the Caribbean: On Stranger Tides ( tt1298650)',\n",
       " '2': '2. Gods and Generals( tt0279111)',\n",
       " '3': '3. Winnie the Pooh( tt1449283)',\n",
       " '4': '4. Средняя продолжительность фильмов: 109.6585494970884 минут',\n",
       " '5': '5. Медианное значение длительности фильмов: 107.0 минут',\n",
       " '6': '6. Avatar( tt0499549)',\n",
       " '7': '7. The Lone Ranger( tt1210819)',\n",
       " '8': '8. У 1478 фильмов из датасета объем сборов оказался выше бюджета',\n",
       " '9': '9. The Dark Knight( tt0468569)',\n",
       " '10': '10. The Lone Ranger( tt1210819)',\n",
       " '11': '11. Жанр Drama    782',\n",
       " '12': '12. Жанр Drama    560',\n",
       " '13': '13. Peter Jackson',\n",
       " '14': '14. Robert Rodriguez',\n",
       " '15': '15. Chris Hemsworth',\n",
       " '16': '16. Matt Damon',\n",
       " '17': '17. Action',\n",
       " '18': '18. K-19: The Widowmaker',\n",
       " '19': '19. 2015',\n",
       " '20': '20. 2014',\n",
       " '21': '21. 9',\n",
       " '22': '22. 450',\n",
       " '23': '23. Peter Jackson',\n",
       " '24': '24. Four By Two Productions',\n",
       " '25': '25. Midnight Picture Show'}"
      ]
     },
     "execution_count": 33,
     "metadata": {},
     "output_type": "execute_result"
    }
   ],
   "source": [
    "task = '25.'\n",
    "df = data.copy()\n",
    "df.production_companies = df.production_companies.str.split('|')\n",
    "df = df.explode('production_companies')\n",
    "df['overview_len'] = df.overview.str.split(' ')\n",
    "#df['overview_len'] = df.overview_len.str.split(',')\n",
    "\n",
    "def words_num (x):\n",
    "    return len(x)\n",
    "#words_num('sdfsdgfrgdfgsf')\n",
    "df['overview_len'] = df.overview_len.apply(lambda x: words_num(x))\n",
    "df = df.groupby(['production_companies']).agg('mean').sort_values(by='overview_len', ascending=False)\n",
    "df = df.head(1).index.tolist()\n",
    "df = ''.join(map(str, df))\n",
    "answers[task] = '{0} {1}'.format(task, df)\n",
    "answers \n"
   ]
  },
  {
   "cell_type": "markdown",
   "metadata": {
    "colab_type": "text",
    "id": "FJ1AFt90VqAP"
   },
   "source": [
    "# 26. Какие фильмы входят в 1 процент лучших по рейтингу? \n",
    "по vote_average"
   ]
  },
  {
   "cell_type": "code",
   "execution_count": 34,
   "metadata": {
    "colab": {},
    "colab_type": "code",
    "id": "8qmJVq4CVqAQ"
   },
   "outputs": [
    {
     "data": {
      "text/plain": [
       "{'1': '1. Pirates of the Caribbean: On Stranger Tides ( tt1298650)',\n",
       " '2': '2. Gods and Generals( tt0279111)',\n",
       " '3': '3. Winnie the Pooh( tt1449283)',\n",
       " '4': '4. Средняя продолжительность фильмов: 109.6585494970884 минут',\n",
       " '5': '5. Медианное значение длительности фильмов: 107.0 минут',\n",
       " '6': '6. Avatar( tt0499549)',\n",
       " '7': '7. The Lone Ranger( tt1210819)',\n",
       " '8': '8. У 1478 фильмов из датасета объем сборов оказался выше бюджета',\n",
       " '9': '9. The Dark Knight( tt0468569)',\n",
       " '10': '10. The Lone Ranger( tt1210819)',\n",
       " '11': '11. Жанр Drama    782',\n",
       " '12': '12. Жанр Drama    560',\n",
       " '13': '13. Peter Jackson',\n",
       " '14': '14. Robert Rodriguez',\n",
       " '15': '15. Chris Hemsworth',\n",
       " '16': '16. Matt Damon',\n",
       " '17': '17. Action',\n",
       " '18': '18. K-19: The Widowmaker',\n",
       " '19': '19. 2015',\n",
       " '20': '20. 2014',\n",
       " '21': '21. 9',\n",
       " '22': '22. 450',\n",
       " '23': '23. Peter Jackson',\n",
       " '24': '24. Four By Two Productions',\n",
       " '25': '25. Midnight Picture Show',\n",
       " '26': \"26. ['The Dark Knight' 'Interstellar' 'The Imitation Game' 'Inside Out' 'Room'\\n 'The Wolf of Wall Street' 'Gone Girl' '12 Years a Slave'\\n 'Guardians of the Galaxy' 'The Lord of the Rings: The Return of the King'\\n 'Memento' 'Inception' 'The Pianist' 'The Grand Budapest Hotel' 'Her'\\n 'Spotlight' 'Big Hero 6' 'The Fault in Our Stars']\"}"
      ]
     },
     "execution_count": 34,
     "metadata": {},
     "output_type": "execute_result"
    }
   ],
   "source": [
    "task = '26.'\n",
    "df = data.copy()\n",
    "df = df.sort_values(by='vote_average', ascending=False)\n",
    "df = df[['original_title', 'vote_average']]\n",
    "df.reset_index(drop=True, inplace=True)\n",
    "df2 = int(len(df.index)/100)\n",
    "df = df.head(df2)\n",
    "df = df['original_title'].values\n",
    "answers['task'] = '{0} {1}'.format(task, df)\n",
    "answers "
   ]
  },
  {
   "cell_type": "markdown",
   "metadata": {
    "colab_type": "text",
    "id": "MdXsUXbCVqAV"
   },
   "source": [
    "# 27. Какие актеры чаще всего снимаются в одном фильме вместе?\n"
   ]
  },
  {
   "cell_type": "markdown",
   "metadata": {
    "colab_type": "text",
    "id": "4ymnxEVoVqAW"
   },
   "source": [
    "ВАРИАНТ 2"
   ]
  },
  {
   "cell_type": "code",
   "execution_count": 36,
   "metadata": {},
   "outputs": [
    {
     "data": {
      "text/plain": [
       "{'1': '1. Pirates of the Caribbean: On Stranger Tides ( tt1298650)',\n",
       " '2': '2. Gods and Generals( tt0279111)',\n",
       " '3': '3. Winnie the Pooh( tt1449283)',\n",
       " '4': '4. Средняя продолжительность фильмов: 109.6585494970884 минут',\n",
       " '5': '5. Медианное значение длительности фильмов: 107.0 минут',\n",
       " '6': '6. Avatar( tt0499549)',\n",
       " '7': '7. The Lone Ranger( tt1210819)',\n",
       " '8': '8. У 1478 фильмов из датасета объем сборов оказался выше бюджета',\n",
       " '9': '9. The Dark Knight( tt0468569)',\n",
       " '10': '10. The Lone Ranger( tt1210819)',\n",
       " '11': '11. Жанр Drama    782',\n",
       " '12': '12. Жанр Drama    560',\n",
       " '13': '13. Peter Jackson',\n",
       " '14': '14. Robert Rodriguez',\n",
       " '15': '15. Chris Hemsworth',\n",
       " '16': '16. Matt Damon',\n",
       " '17': '17. Action',\n",
       " '18': '18. K-19: The Widowmaker',\n",
       " '19': '19. 2015',\n",
       " '20': '20. 2014',\n",
       " '21': '21. 9',\n",
       " '22': '22. 450',\n",
       " '23': '23. Peter Jackson',\n",
       " '24': '24. Four By Two Productions',\n",
       " '25': '25. Midnight Picture Show',\n",
       " '26': \"26. ['The Dark Knight' 'Interstellar' 'The Imitation Game' 'Inside Out' 'Room'\\n 'The Wolf of Wall Street' 'Gone Girl' '12 Years a Slave'\\n 'Guardians of the Galaxy' 'The Lord of the Rings: The Return of the King'\\n 'Memento' 'Inception' 'The Pianist' 'The Grand Budapest Hotel' 'Her'\\n 'Spotlight' 'Big Hero 6' 'The Fault in Our Stars']\",\n",
       " '27.': \"27. [(('Daniel Radcliffe', 'Rupert Grint'), 8), (('Daniel Radcliffe', 'Emma Watson'), 8), (('Rupert Grint', 'Emma Watson'), 7), (('Ben Stiller', 'Owen Wilson'), 6), (('Johnny Depp', 'Helena Bonham Carter'), 6)]\"}"
      ]
     },
     "execution_count": 36,
     "metadata": {},
     "output_type": "execute_result"
    }
   ],
   "source": [
    "task = '27.'\n",
    "df = data.copy()\n",
    "pairs = Counter()\n",
    "for i in range(0,len(df)):\n",
    "    artists = df.cast[i].split('|')\n",
    "    for j in list(combinations(artists,2)):\n",
    "        if j not in pairs:\n",
    "            pairs[j] = 1\n",
    "        else:\n",
    "            pairs[j] += 1\n",
    "aa = pairs.most_common(5)\n",
    "answers[task] = '{0} {1}'.format(task, aa)\n",
    "answers \n",
    "     "
   ]
  },
  {
   "cell_type": "code",
   "execution_count": null,
   "metadata": {},
   "outputs": [],
   "source": []
  },
  {
   "cell_type": "markdown",
   "metadata": {
    "colab_type": "text",
    "id": "U0nONFnGVqAX"
   },
   "source": [
    "# Submission"
   ]
  },
  {
   "cell_type": "code",
   "execution_count": null,
   "metadata": {
    "colab": {},
    "colab_type": "code",
    "id": "IfcaRO9-VqAX",
    "outputId": "0f132912-32bb-4196-c98c-abfbc4ad5a5f"
   },
   "outputs": [],
   "source": [
    "# в конце можно посмотреть свои ответы к каждому вопросу\n",
    "answers"
   ]
  },
  {
   "cell_type": "code",
   "execution_count": 37,
   "metadata": {
    "colab": {},
    "colab_type": "code",
    "id": "SiRmHPl8VqAd"
   },
   "outputs": [
    {
     "data": {
      "text/plain": [
       "27"
      ]
     },
     "execution_count": 37,
     "metadata": {},
     "output_type": "execute_result"
    }
   ],
   "source": [
    "# и убедиться что ни чего не пропустил)\n",
    "len(answers)"
   ]
  },
  {
   "cell_type": "code",
   "execution_count": null,
   "metadata": {
    "colab": {},
    "colab_type": "code",
    "id": "uCfuTkRbVqAg"
   },
   "outputs": [],
   "source": []
  },
  {
   "cell_type": "code",
   "execution_count": null,
   "metadata": {
    "colab": {},
    "colab_type": "code",
    "id": "Vwx3NrkSVqAl"
   },
   "outputs": [],
   "source": []
  }
 ],
 "metadata": {
  "colab": {
   "name": "Copy of [SF-DST] Movies IMBD v4.1 TEMPLATE.ipynb",
   "provenance": []
  },
  "kernelspec": {
   "display_name": "Python 3",
   "language": "python",
   "name": "python3"
  },
  "language_info": {
   "codemirror_mode": {
    "name": "ipython",
    "version": 3
   },
   "file_extension": ".py",
   "mimetype": "text/x-python",
   "name": "python",
   "nbconvert_exporter": "python",
   "pygments_lexer": "ipython3",
   "version": "3.8.3"
  }
 },
 "nbformat": 4,
 "nbformat_minor": 1
}
